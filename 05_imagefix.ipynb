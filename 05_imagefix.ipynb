{
 "cells": [
  {
   "cell_type": "markdown",
   "metadata": {},
   "source": [
    "5.이미지 조정"
   ]
  },
  {
   "cell_type": "code",
   "execution_count": 31,
   "metadata": {},
   "outputs": [],
   "source": [
    "import cv2\n",
    "import numpy as np\n",
    "\n",
    "CAT_PATH = (\"images/cat.jpg\")"
   ]
  },
  {
   "cell_type": "markdown",
   "metadata": {},
   "source": [
    "5-1.이미지 복사"
   ]
  },
  {
   "cell_type": "code",
   "execution_count": null,
   "metadata": {},
   "outputs": [],
   "source": [
    "\n",
    "img = cv2.imread(CAT_PATH)\n",
    "shallow_copy = img\n",
    "deep_copy = img.copy()\n",
    "\n",
    "gray =cv2.cvtColor(shallow_copy,cv2.COLOR_BGR2GRAY)\n",
    "\n",
    "# cv2."
   ]
  },
  {
   "cell_type": "markdown",
   "metadata": {},
   "source": [
    "5-2. 리사이즈"
   ]
  },
  {
   "cell_type": "code",
   "execution_count": null,
   "metadata": {},
   "outputs": [],
   "source": [
    "img = cv2.imread(CAT_PATH)\n",
    "# img.shape   #1266,1898\n",
    "\n",
    "#고정 크기 입력해 조정\n",
    "# dst = cv2.resize(img, (600,600))\n",
    "\n",
    "# #비율로 조정\n",
    "# dst = cv2.resize(img, None, fx= 0.5, fy= 0.5)   #x,y에대해 각각 0.5배\n",
    "\n",
    "#보간법\n",
    "dst = cv2.resize(img, None, fx= 2.5, fy= 2.5, interpolation=cv2.INTER_LINEAR)\n",
    "\n",
    "\n",
    "cv2.imshow(\"resize\",dst)\n",
    "cv2.waitKey(0)\n",
    "cv2.destroyAllWindows()\n",
    "\n"
   ]
  },
  {
   "cell_type": "markdown",
   "metadata": {},
   "source": [
    "실습.영상 리사이즈"
   ]
  },
  {
   "cell_type": "code",
   "execution_count": 12,
   "metadata": {},
   "outputs": [],
   "source": [
    "CAT_PATH = (\"videos/cat.mp4\")\n",
    "\n",
    "cap = cv2.VideoCapture(CAT_PATH)\n",
    "\n",
    "fps = cap.get(cv2.CAP_PROP_FPS)\n",
    "\n",
    "while cap.isOpened():\n",
    "        ret, frame = cap.read()\n",
    "\n",
    "        if not ret:\n",
    "         break\n",
    "        frame_resized = cv2.resize(frame, None, fx= 1.5, fy= 1.5,interpolation=cv2.INTER_LINEAR)\n",
    "        cv2.imshow(\"Video\", frame_resized)\n",
    " \n",
    "        if cv2.waitKey(int(1000/fps)) == ord(\"q\"):  \n",
    "\n",
    "            cap.release()               \n",
    "cv2.destroyAllWindows() "
   ]
  },
  {
   "cell_type": "markdown",
   "metadata": {},
   "source": [
    "이미지 피라미드"
   ]
  },
  {
   "cell_type": "code",
   "execution_count": null,
   "metadata": {},
   "outputs": [],
   "source": [
    "img = cv2.imread(CAT_PATH)\n",
    "\n",
    "size_up = cv2."
   ]
  },
  {
   "cell_type": "markdown",
   "metadata": {},
   "source": [
    "5-3. 이미지 자르기"
   ]
  },
  {
   "cell_type": "code",
   "execution_count": 16,
   "metadata": {},
   "outputs": [],
   "source": [
    "DOG_PATH = (\"images/dog.jpg\")\n",
    "img = cv2.imread(DOG_PATH)\n",
    "\n",
    "cropped = img[100:200, 150:250]\n",
    "img[100:200, 300:400] = cropped\n",
    "\n",
    "cv2.imshow(\"Cat\", img)\n",
    "cv2.imshow(\"Cat cropped\", cropped)\n",
    "\n",
    "cv2.waitKey(0)\n",
    "cv2.destroyAllWindows()"
   ]
  },
  {
   "cell_type": "markdown",
   "metadata": {},
   "source": [
    "5-4 이미지 대칭"
   ]
  },
  {
   "cell_type": "code",
   "execution_count": 22,
   "metadata": {},
   "outputs": [],
   "source": [
    "img = cv2.imread(DOG_PATH)\n",
    "img_re = cv2.resize(img, None, fx= 0.5, fy= 0.5, interpolation=cv2.INTER_LINEAR)\n",
    "\n",
    "\n",
    "#플립코드>0, 좌우반전, y축기준\n",
    "#플립코드 == 0, 상하반전, x축기준\n",
    "#플립코드 <0,상하좌우반전\n",
    "\n",
    "img_2 = cv2.flip(img_re,1)\n",
    "dst_2 = cv2.flip(img_re,0)\n",
    "dst_3 = cv2.flip(img_re,-1)\n",
    "\n",
    "cv2.imshow(\"bori\", img_re)\n",
    "cv2.imshow(\"bori\", img_2)\n",
    "\n",
    "\n",
    "\n",
    "\n",
    "cv2.waitKey()\n",
    "cv2.destroyAllWindows()"
   ]
  },
  {
   "cell_type": "markdown",
   "metadata": {},
   "source": [
    "실습"
   ]
  },
  {
   "cell_type": "code",
   "execution_count": 26,
   "metadata": {},
   "outputs": [],
   "source": [
    "img = cv2.imread(\"images/ye.jpg\")\n",
    "\n",
    "\n",
    "img_2 = cv2.flip(img,1)     #이미지 반전\n",
    "# img_3 = cv2.resize(img_2, None, fx= 0.5, fy= 0.5, interpolation=cv2.INTER_LINEAR)   #사이즈 축소\n",
    "img_3 = cv2.pyrDown(img_2)  #이미지 1/2 축소\n",
    "img[img.shape[0]-img_3.shape[0]:,img.shape[1]-img_3.shape[1]:]=img_3\n",
    "\n",
    "# iheight, iwidth, ichannel = img.shape\n",
    "# dheight, dwidth, dchannel = dst.shape\n",
    "# img[iheight-dheight:iheight,iwidth- dwidth:iwidth]=dst\n",
    "\n",
    "cv2.imshow(\"ye\", img)\n",
    "# cv2.imshow(\"ye1\", resize)\n",
    "\n",
    "cv2.waitKey(0)\n",
    "cv2.destroyAllWindows()"
   ]
  },
  {
   "cell_type": "markdown",
   "metadata": {},
   "source": [
    "이미지와 색상-RGB"
   ]
  },
  {
   "cell_type": "code",
   "execution_count": 28,
   "metadata": {},
   "outputs": [
    {
     "ename": "ValueError",
     "evalue": "not enough values to unpack (expected 3, got 0)",
     "output_type": "error",
     "traceback": [
      "\u001b[1;31m---------------------------------------------------------------------------\u001b[0m",
      "\u001b[1;31mValueError\u001b[0m                                Traceback (most recent call last)",
      "Cell \u001b[1;32mIn[28], line 3\u001b[0m\n\u001b[0;32m      1\u001b[0m img \u001b[38;5;241m=\u001b[39m cv2\u001b[38;5;241m.\u001b[39mimread(\u001b[38;5;124m\"\u001b[39m\u001b[38;5;124mimages/bori.jpg\u001b[39m\u001b[38;5;124m\"\u001b[39m)\n\u001b[1;32m----> 3\u001b[0m blue,green ,red \u001b[38;5;241m=\u001b[39m cv2\u001b[38;5;241m.\u001b[39msplit(img)\n\u001b[0;32m      5\u001b[0m cv2\u001b[38;5;241m.\u001b[39mimread(\u001b[38;5;124m\"\u001b[39m\u001b[38;5;124mblue\u001b[39m\u001b[38;5;124m\"\u001b[39m,blue)\n\u001b[0;32m      6\u001b[0m cv2\u001b[38;5;241m.\u001b[39mimread(\u001b[38;5;124m\"\u001b[39m\u001b[38;5;124mgreen\u001b[39m\u001b[38;5;124m\"\u001b[39m,green)\n",
      "\u001b[1;31mValueError\u001b[0m: not enough values to unpack (expected 3, got 0)"
     ]
    }
   ],
   "source": [
    "img = cv2.imread(\"images/bori.jpg\")\n",
    "\n",
    "blue,green ,red = cv2.split(img)\n",
    "\n",
    "cv2.imread(\"blue\",blue)\n",
    "cv2.imread(\"green\",green)\n",
    "cv2.imread(\"red\",red)\n",
    "\n",
    "\n",
    "cv2.imshow(\"blue\", img)\n",
    "cv2.waitKey(0)\n",
    "cv2.destroyAllWindows()"
   ]
  },
  {
   "cell_type": "markdown",
   "metadata": {},
   "source": [
    "5-4. 이미지색상 변경"
   ]
  },
  {
   "cell_type": "code",
   "execution_count": 35,
   "metadata": {},
   "outputs": [],
   "source": [
    "img = cv2.imread(\"images/dog.jpg\")\n",
    "gray = cv2.cvtColor(img,cv2.COLOR_BGR2GRAY)\n",
    "rgb = cv2.cvtColor(img,cv2.COLOR_BGR2RGB)\n",
    "\n",
    "cv2.imshow(\"gray\", gray)\n",
    "cv2.imshow(\"rgb\", rgb)\n",
    "\n",
    "cv2.waitKey(0)\n",
    "cv2.destroyAllWindows()"
   ]
  },
  {
   "cell_type": "markdown",
   "metadata": {},
   "source": [
    "실습4.흑백 반전 "
   ]
  },
  {
   "cell_type": "code",
   "execution_count": 44,
   "metadata": {},
   "outputs": [],
   "source": [
    "img = cv2.imread(\"images/cat.jpg\",cv2.IMREAD_GRAYSCALE)\n",
    "img_1 = cv2.pyrDown(img)\n",
    "inverted_img = 255-img_1\n",
    "\n",
    "cv2.imshow(\"origin\", img_1)\n",
    "cv2.imshow(\"inverted\", inverted_img)\n",
    "\n",
    "cv2.waitKey(0)\n",
    "cv2.destroyAllWindows()\n",
    "\n"
   ]
  },
  {
   "cell_type": "markdown",
   "metadata": {},
   "source": [
    "5-5. 이미지 흐리기(blur 처리)\n",
    "Gauusianblur"
   ]
  },
  {
   "cell_type": "code",
   "execution_count": 45,
   "metadata": {},
   "outputs": [],
   "source": [
    "img = cv2.imread(\"images/cat.jpg\")\n",
    "img_1 = cv2.pyrDown(img)\n",
    "\n",
    "#커널을 사용하는 방식\n",
    "#(3,3),(5,5),(7,7)을 주로 사용\n",
    "#어떤 범위내에 평균적인 값으로 블러처리\n",
    "#(픽셀 범위)값이 클수록 흐려짐\n",
    "\n",
    "kernel_3= cv2.GaussianBlur(img_1,(3,3),0)\n",
    "kernel_5= cv2.GaussianBlur(img_1,(5,5),0)\n",
    "kernel_7= cv2.GaussianBlur(img_1,(7,7),0)\n",
    "\n",
    "cv2.imshow(\"k3\",kernel_3)\n",
    "cv2.imshow(\"k5\",kernel_5)\n",
    "cv2.imshow(\"k7\",kernel_7)\n",
    "\n",
    "\n",
    "\n",
    "cv2.waitKey(0)\n",
    "cv2.destroyAllWindows()"
   ]
  },
  {
   "cell_type": "code",
   "execution_count": 47,
   "metadata": {},
   "outputs": [],
   "source": [
    "img = cv2.imread(\"images/cat.jpg\")\n",
    "img_1 = cv2.pyrDown(img)\n",
    "img_2 = cv2.pyrDown(img_1)\n",
    "\n",
    "#표준편차 사용방식\n",
    "\n",
    "sigma_3 = cv2.GaussianBlur(img_2,(0,0),1)\n",
    "sigma_5= cv2.GaussianBlur(img_2,(0,0),2)\n",
    "sigma_7= cv2.GaussianBlur(img_2,(0,0),3)\n",
    "\n",
    "cv2.imshow(\"k3\",sigma_3)\n",
    "cv2.imshow(\"k5\",sigma_5)\n",
    "cv2.imshow(\"k7\",sigma_7)\n",
    "\n",
    "\n",
    "\n",
    "cv2.waitKey(0)\n",
    "cv2.destroyAllWindows()"
   ]
  },
  {
   "cell_type": "markdown",
   "metadata": {},
   "source": [
    "5-7.이미지 회전"
   ]
  },
  {
   "cell_type": "markdown",
   "metadata": {},
   "source": [
    "이미지 회전\n",
    "rotateCode\n",
    "cv2.ROTATE_90_CLOCKWISE = 시계 90도회전\n",
    "cv2.ROTATE_180  = 180도\n",
    "cv2.ROTATE_90_COUNTERCLOCKWISE =반시계"
   ]
  },
  {
   "cell_type": "code",
   "execution_count": 52,
   "metadata": {},
   "outputs": [],
   "source": [
    "img = cv2.imread(\"images/cat.jpg\")\n",
    "img_1 = cv2.pyrDown(img)\n",
    "img_2 = cv2.pyrDown(img_1)\n",
    "\n",
    "\n",
    "dst_90 = cv2.rotate(img_1,cv2.ROTATE_90_CLOCKWISE)\n",
    "dst_180 = cv2.rotate(img_1,cv2.ROTATE_180)\n",
    "dst_c_90 = cv2.rotate(img_1,cv2.ROTATE_90_COUNTERCLOCKWISE)\n",
    "\n",
    "cv2.imshow(\"rotate\",dst_90)\n",
    "cv2.imshow(\"rotate2\",dst_180)\n",
    "cv2.imshow(\"rotate3\",dst_c_90)\n",
    "\n",
    "cv2.waitKey(0)\n",
    "cv2.destroyAllWindows()"
   ]
  },
  {
   "cell_type": "markdown",
   "metadata": {},
   "source": [
    "affine 변환"
   ]
  },
  {
   "cell_type": "code",
   "execution_count": 56,
   "metadata": {},
   "outputs": [],
   "source": [
    "img = cv2.imread(\"images/cat.jpg\")\n",
    "img_1 = cv2.pyrDown(img)\n",
    "img_2 = cv2.pyrDown(img_1)\n",
    "\n",
    "center = (img.shape[1]/2, img.shape[0]/2) #원 중심\n",
    "affine = cv2.getRotationMatrix2D(center, -45, 1)\n",
    "dst = cv2.warpAffine(img_1, affine, (img_1.shape [1], img_1.shape [0])) #가로1 세로0\n",
    "\n",
    "# cv2.imshow(\"origin\",img_2)\n",
    "cv2.imshow(\"Rotate\",dst)\n",
    "\n",
    "cv2.waitKey(0)\n",
    "cv2.destroyAllWindows()"
   ]
  },
  {
   "cell_type": "code",
   "execution_count": null,
   "metadata": {},
   "outputs": [],
   "source": [
    "#affine 변환 사용\n",
    "import math\n",
    "img = cv2.imread(\"images/cat.jpg\")\n",
    "\n",
    "affine = np.array([[math.cos(red), -math.sin(rad)],[math]])"
   ]
  }
 ],
 "metadata": {
  "kernelspec": {
   "display_name": "my_cv",
   "language": "python",
   "name": "python3"
  },
  "language_info": {
   "codemirror_mode": {
    "name": "ipython",
    "version": 3
   },
   "file_extension": ".py",
   "mimetype": "text/x-python",
   "name": "python",
   "nbconvert_exporter": "python",
   "pygments_lexer": "ipython3",
   "version": "3.12.8"
  }
 },
 "nbformat": 4,
 "nbformat_minor": 2
}
