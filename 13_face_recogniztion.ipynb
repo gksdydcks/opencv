{
 "cells": [
  {
   "cell_type": "markdown",
   "metadata": {},
   "source": [
    "### 13. 얼굴인식\n"
   ]
  },
  {
   "cell_type": "markdown",
   "metadata": {},
   "source": [
    "##### 13-1 Cascade\n"
   ]
  },
  {
   "cell_type": "code",
   "execution_count": 6,
   "metadata": {},
   "outputs": [],
   "source": [
    "import cv2\n",
    "FAMILY = \"images/king.jpg\""
   ]
  },
  {
   "cell_type": "code",
   "execution_count": 4,
   "metadata": {},
   "outputs": [],
   "source": [
    "import cv2\n",
    "FAMILY = \"images/family.jpg\"\n",
    "#scaleFactor : 1.1 기준으로 많이 함 1.3 등으로(클수록) 하면 정확도 떨어짐\n",
    "face_cascade = cv2.CascadeClassifier('cascade/haarcascade_frontalface_default.xml')\n",
    "eye_casccade = cv2.CascadeClassifier('cascade/haarcascade_eye.xml')\n",
    "img = cv2.imread(FAMILY)\n",
    "gray = cv2.cvtColor(img,cv2.COLOR_BGR2GRAY)\n",
    "faces = face_cascade.detectMultiScale(\n",
    "    gray, scaleFactor=1.1,minNeighbors=10,minSize=(20,20)\n",
    ")\n",
    "eyes = eye_casccade.detectMultiScale(\n",
    "    gray, scaleFactor=1.1,minNeighbors=10,minSize=(10,10)\n",
    ")\n",
    "\n",
    "if len(faces):\n",
    "    for face in faces:\n",
    "        x,y,width,height = face\n",
    "        cv2.rectangle(img,(x,y),(x+width,y+height),(0,255,0),4)\n",
    "\n",
    "if len(eyes):\n",
    "    for eye in eyes:\n",
    "        x,y,width,height = eye\n",
    "        cv2.rectangle(img,(x,y),(x+width,y+height),(255,255,0),4)\n",
    "\n",
    "cv2.imshow(\"img\",img)\n",
    "cv2.waitKey(0)\n",
    "cv2.destroyAllWindows()"
   ]
  },
  {
   "cell_type": "code",
   "execution_count": 5,
   "metadata": {},
   "outputs": [],
   "source": [
    "import cv2\n",
    "KING = \"images/king.jpg\"\n",
    "#scaleFactor : 1.1 기준으로 많이 함 1.3 등으로 하면 정확도 떨어짐\n",
    "face_cascade = cv2.CascadeClassifier('cascade/haarcascade_frontalface_default.xml')\n",
    "eye_casccade = cv2.CascadeClassifier('cascade/haarcascade_eye.xml')\n",
    "img = cv2.imread(KING)\n",
    "gray = cv2.cvtColor(img,cv2.COLOR_BGR2GRAY)\n",
    "faces = face_cascade.detectMultiScale(\n",
    "    gray, scaleFactor=1.1,minNeighbors=10,minSize=(20,20)\n",
    ")\n",
    "eyes = eye_casccade.detectMultiScale(\n",
    "    gray, scaleFactor=1.1,minNeighbors=10,minSize=(10,10)\n",
    ")\n",
    "\n",
    "if len(faces):\n",
    "    for face in faces:\n",
    "        x,y,width,height = face\n",
    "        cv2.rectangle(img,(x,y),(x+width,y+height),(0,255,0),4)\n",
    "\n",
    "if len(eyes):\n",
    "    for eye in eyes:\n",
    "        x,y,width,height = eye\n",
    "        cv2.rectangle(img,(x,y),(x+width,y+height),(255,255,0),4)\n",
    "\n",
    "cv2.imshow(\"img\",img)\n",
    "cv2.waitKey(0)\n",
    "cv2.destroyAllWindows()"
   ]
  },
  {
   "cell_type": "markdown",
   "metadata": {},
   "source": [
    "### 영상에서 얼굴 인식"
   ]
  },
  {
   "cell_type": "markdown",
   "metadata": {},
   "source": [
    "#### 실습1. 동영상 얼굴인식"
   ]
  },
  {
   "cell_type": "code",
   "execution_count": 55,
   "metadata": {},
   "outputs": [],
   "source": [
    "face_cascade = cv2.CascadeClassifier(\"cascade/haarcascade_frontalface_default.xml\")\n",
    "cap = cv2.VideoCapture(\"videos/123.mp4\")\n",
    "fps = cap.get(cv2.CAP_PROP_FPS)\n",
    "\n",
    "while cap.isOpened():\n",
    "  ret, frame = cap.read()\n",
    "\n",
    "  if not ret:\n",
    "    break\n",
    "\n",
    "  gray = cv2.cvtColor(frame, cv2.COLOR_BGR2GRAY)\n",
    "  faces = face_cascade.detectMultiScale(\n",
    "    gray, scaleFactor=1.1, minNeighbors=16, minSize=(20,20)\n",
    "  )\n",
    "  if len(faces):\n",
    "    for x,y,w,h in faces:\n",
    "      cv2.rectangle(frame, (x,y), (x+w, y+h), (0,255,0), 4)\n",
    "  cv2.imshow(\"video\", frame)\n",
    "\n",
    "  if cv2.waitKey(int(1000/fps)) == ord(\"q\"):\n",
    "    break\n",
    "\n",
    "cap.release()\n",
    "cv2.destroyAllWindows()"
   ]
  },
  {
   "cell_type": "markdown",
   "metadata": {},
   "source": [
    "##### 실습2. 웹캠에서 얼굴,눈 인식, 객체의 신뢰도"
   ]
  },
  {
   "cell_type": "code",
   "execution_count": 94,
   "metadata": {},
   "outputs": [],
   "source": [
    "import cv2\n",
    "cap = cv2.VideoCapture(0)\n",
    "face_cascade = cv2.CascadeClassifier('cascade/haarcascade_frontalface_default.xml')\n",
    "eye_casccade = cv2.CascadeClassifier('cascade/haarcascade_eye.xml')\n",
    "\n",
    "if not cap.isOpened():\n",
    "    exit()\n",
    "    \n",
    "while True:\n",
    "    ret, frame = cap.read()\n",
    "    faces = face_cascade.detectMultiScale(\n",
    "    frame, scaleFactor=1.1,minNeighbors=10,minSize=(20,20)\n",
    "    )\n",
    "    eyes = eye_casccade.detectMultiScale(\n",
    "    frame, scaleFactor=1.1,minNeighbors=30,minSize=(15,15)\n",
    "    )  \n",
    "    objects, weights = face_cascade.detectMultiScale2(      \n",
    "        frame, scaleFactor=1.1, minNeighbors=5, minSize=(20, 20)\n",
    "    )               #weights: 탐지된 객체의 가중치(신뢰도)\n",
    "    if len(faces):\n",
    "        for face in faces:\n",
    "            x,y,width,height = face\n",
    "            cv2.rectangle(frame,(x,y),(x+width,y+height),(255,0,0),5)\n",
    "            cv2.putText(frame, \"Face\", (x,y),cv2.FONT_HERSHEY_COMPLEX_SMALL,1,(255,0,0),2)\n",
    "    if len(eyes):\n",
    "        for eye in eyes:\n",
    "            x,y,width,height = eye\n",
    "            cv2.rectangle(frame,(x,y),(x+width,y+height),(255,255,100),5)\n",
    "            cv2.putText(frame, \"Eye\", (x,y),cv2.FONT_HERSHEY_COMPLEX_SMALL,1,(255,255,100),2)\n",
    "    cv2.imshow(\"Camera\",frame)\n",
    "    \n",
    "    if cv2.waitKey(1) == ord(\"q\"):\n",
    "        break\n",
    "cap.release()\n",
    "cv2.destroyAllWindows()"
   ]
  }
 ],
 "metadata": {
  "kernelspec": {
   "display_name": "my_cv",
   "language": "python",
   "name": "python3"
  },
  "language_info": {
   "codemirror_mode": {
    "name": "ipython",
    "version": 3
   },
   "file_extension": ".py",
   "mimetype": "text/x-python",
   "name": "python",
   "nbconvert_exporter": "python",
   "pygments_lexer": "ipython3",
   "version": "3.12.8"
  }
 },
 "nbformat": 4,
 "nbformat_minor": 2
}
