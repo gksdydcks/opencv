{
 "cells": [
  {
   "cell_type": "markdown",
   "metadata": {},
   "source": [
    "### 13. 얼굴인식\n"
   ]
  },
  {
   "cell_type": "markdown",
   "metadata": {},
   "source": [
    "##### 13-1 Cascade"
   ]
  },
  {
   "cell_type": "code",
   "execution_count": 4,
   "metadata": {},
   "outputs": [],
   "source": [
    "import cv2\n",
    "FAMILY = \"images/king.jpg\""
   ]
  },
  {
   "cell_type": "code",
   "execution_count": 1,
   "metadata": {},
   "outputs": [
    {
     "ename": "NameError",
     "evalue": "name 'eyes_cascade' is not defined",
     "output_type": "error",
     "traceback": [
      "\u001b[1;31m---------------------------------------------------------------------------\u001b[0m",
      "\u001b[1;31mNameError\u001b[0m                                 Traceback (most recent call last)",
      "Cell \u001b[1;32mIn[1], line 11\u001b[0m\n\u001b[0;32m      7\u001b[0m gray \u001b[38;5;241m=\u001b[39m cv2\u001b[38;5;241m.\u001b[39mcvtColor(img,cv2\u001b[38;5;241m.\u001b[39mCOLOR_BGR2GRAY)\n\u001b[0;32m      8\u001b[0m faces \u001b[38;5;241m=\u001b[39m face_cascade\u001b[38;5;241m.\u001b[39mdetectMultiScale(\n\u001b[0;32m      9\u001b[0m     gray, scaleFactor\u001b[38;5;241m=\u001b[39m\u001b[38;5;241m1.1\u001b[39m,minNeighbors\u001b[38;5;241m=\u001b[39m\u001b[38;5;241m5\u001b[39m,minSize\u001b[38;5;241m=\u001b[39m(\u001b[38;5;241m20\u001b[39m,\u001b[38;5;241m20\u001b[39m)\n\u001b[0;32m     10\u001b[0m )\n\u001b[1;32m---> 11\u001b[0m eyes \u001b[38;5;241m=\u001b[39m \u001b[43meyes_cascade\u001b[49m\u001b[38;5;241m.\u001b[39mdetectMultiScale(\n\u001b[0;32m     12\u001b[0m     gray, scaleFactor\u001b[38;5;241m=\u001b[39m\u001b[38;5;241m1.1\u001b[39m,minNeighbors\u001b[38;5;241m=\u001b[39m\u001b[38;5;241m5\u001b[39m,minSize\u001b[38;5;241m=\u001b[39m(\u001b[38;5;241m20\u001b[39m,\u001b[38;5;241m20\u001b[39m)\n\u001b[0;32m     13\u001b[0m )\n\u001b[0;32m     15\u001b[0m \u001b[38;5;28;01mif\u001b[39;00m \u001b[38;5;28mlen\u001b[39m(faces):\n\u001b[0;32m     16\u001b[0m     \u001b[38;5;28;01mfor\u001b[39;00m face \u001b[38;5;129;01min\u001b[39;00m faces:\n",
      "\u001b[1;31mNameError\u001b[0m: name 'eyes_cascade' is not defined"
     ]
    }
   ],
   "source": [
    "import cv2\n",
    "FAMILY = \"images/family.jpg\"\n",
    "#scaleFactor : 1.1 기준으로 많이 함 1.3 등으로 하면 정확도 떨어짐\n",
    "face_cascade = cv2.CascadeClassifier('cascade/haarcascade_frontalface_default.xml')\n",
    "eye_casccade = cv2.CascadeClassifier('cascade/haarcascade_eye.xml')\n",
    "img = cv2.imread(FAMILY)\n",
    "gray = cv2.cvtColor(img,cv2.COLOR_BGR2GRAY)\n",
    "faces = face_cascade.detectMultiScale(\n",
    "    gray, scaleFactor=1.1,minNeighbors=5,minSize=(20,20)\n",
    ")\n",
    "eyes = eye_casccade.detectMultiScale(\n",
    "    gray, scaleFactor=1.1,minNeighbors=5,minSize=(10,10)\n",
    ")\n",
    "\n",
    "if len(faces):\n",
    "    for face in faces:\n",
    "        x,y,width,height = face\n",
    "        cv2.rectangle(img,(x,y),(x+width,y+height),(0,255,0),4)\n",
    "\n",
    "if len(eyes):\n",
    "    for eye in eyes:\n",
    "        x,y,width,height = eye\n",
    "        cv2.rectangle(img,(x,y),(x+width,y+height),(255,255,0),4)\n",
    "\n",
    "cv2.imshow(\"img\",img)\n",
    "cv2.waitKey(0)\n",
    "cv2.destroyAllWindows()"
   ]
  }
 ],
 "metadata": {
  "kernelspec": {
   "display_name": "my_cv",
   "language": "python",
   "name": "python3"
  },
  "language_info": {
   "codemirror_mode": {
    "name": "ipython",
    "version": 3
   },
   "file_extension": ".py",
   "mimetype": "text/x-python",
   "name": "python",
   "nbconvert_exporter": "python",
   "pygments_lexer": "ipython3",
   "version": "3.12.8"
  }
 },
 "nbformat": 4,
 "nbformat_minor": 2
}
