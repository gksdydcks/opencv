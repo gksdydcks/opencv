{
 "cells": [
  {
   "cell_type": "markdown",
   "metadata": {},
   "source": [
    "11.경계선 검출\n"
   ]
  },
  {
   "cell_type": "code",
   "execution_count": 2,
   "metadata": {},
   "outputs": [],
   "source": [
    "import cv2\n",
    "\n",
    "MOUNTAIN = \"images/mountain.jpg\""
   ]
  },
  {
   "cell_type": "markdown",
   "metadata": {},
   "source": [
    "11-1.기본 구현"
   ]
  },
  {
   "cell_type": "code",
   "execution_count": 5,
   "metadata": {},
   "outputs": [],
   "source": [
    "img = cv2.imread(MOUNTAIN,cv2.IMREAD_GRAYSCALE)\n",
    "\n",
    "canny = cv2.Canny(img, 60,150)\n",
    "\n",
    "cv2.imshow(\"img\",img)\n",
    "cv2.imshow(\"Canny\",canny)\n",
    "cv2.waitKey(0)\n",
    "cv2.destroyAllWindows()"
   ]
  },
  {
   "cell_type": "code",
   "execution_count": 3,
   "metadata": {},
   "outputs": [],
   "source": [
    "img = cv2.imread(\"images/dog.jpg\",cv2.IMREAD_GRAYSCALE)\n",
    "img_1 = cv2.pyrDown(img)\n",
    "blurred =cv2.GaussianBlur(img_1, (0,0),1)\n",
    "canny_img = cv2.Canny(img_1, 60,150)\n",
    "canny_blurred = cv2.Canny(blurred, 50, 150)\n",
    "\n",
    "cv2.imshow(\"img\",canny_img)\n",
    "cv2.imshow(\"Canny\",canny_blurred)\n",
    "cv2.waitKey(1)\n",
    "cv2.destroyAllWindows()"
   ]
  },
  {
   "cell_type": "markdown",
   "metadata": {},
   "source": [
    "11-2. 트랙바 적용"
   ]
  },
  {
   "cell_type": "code",
   "execution_count": null,
   "metadata": {},
   "outputs": [],
   "source": [
    "def empty(_):\n",
    "    pass\n",
    "\n",
    "img = cv2.imread(MOUNTAIN,cv2.IMREAD_GRAYSCALE)\n",
    "name = \"Canny\"\n",
    "\n",
    "cv2.namedWindow(name)\n",
    "cv2.createTrackbar(\"treshold1\",name, 50,255,lambda x: x)\n",
    "cv2.createTrackbar(\"treshold2\",name, 150,255,lambda x: x)\n",
    "\n",
    "while True:\n",
    "    treshold1 = cv2.getTrackbarPos(\"treshold1\",name)\n",
    "    treshold2 = cv2.getTrackbarPos(\"treshold2\",name)\n",
    "\n",
    "    canny = cv2.Canny(img, treshold1,treshold2)\n",
    "    cv2.imshow(name,canny)\n",
    "\n",
    "\n",
    "    if cv2.waitKey(1) ==ord(\"q\"):\n",
    "        break\n",
    "cv2.destroyAllWindows()"
   ]
  },
  {
   "cell_type": "markdown",
   "metadata": {},
   "source": [
    "실습 "
   ]
  },
  {
   "cell_type": "code",
   "execution_count": 1,
   "metadata": {},
   "outputs": [],
   "source": [
    "import cv2\n",
    "\n",
    "cap = cv2.VideoCapture(0) \n",
    "name = \"Canny\"\n",
    "cv2.namedWindow(name)\n",
    "cv2.createTrackbar(\"treshold1\",name, 50,255,lambda x: x)\n",
    "cv2.createTrackbar(\"treshold2\",name, 150,255,lambda x: x)\n",
    "\n",
    "if not cap.isOpened():\n",
    "    exit()\n",
    "\n",
    "while True:\n",
    "    ret, frame = cap.read()\n",
    "    treshold1 = cv2.getTrackbarPos(\"treshold1\",name)\n",
    "    treshold2 = cv2.getTrackbarPos(\"treshold2\",name)\n",
    "    canny = cv2.Canny(frame, treshold1,treshold2)\n",
    "    cv2.imshow(name,canny)\n",
    "    if not ret:\n",
    "        break\n",
    "    \n",
    "    if cv2.waitKey(1) == ord(\"q\"):\n",
    "        break\n",
    "cap.release()\n",
    "cv2.destroyAllWindows()"
   ]
  },
  {
   "cell_type": "markdown",
   "metadata": {},
   "source": []
  },
  {
   "cell_type": "code",
   "execution_count": null,
   "metadata": {},
   "outputs": [],
   "source": []
  }
 ],
 "metadata": {
  "kernelspec": {
   "display_name": "my_cv",
   "language": "python",
   "name": "python3"
  },
  "language_info": {
   "codemirror_mode": {
    "name": "ipython",
    "version": 3
   },
   "file_extension": ".py",
   "mimetype": "text/x-python",
   "name": "python",
   "nbconvert_exporter": "python",
   "pygments_lexer": "ipython3",
   "version": "3.12.8"
  }
 },
 "nbformat": 4,
 "nbformat_minor": 2
}
