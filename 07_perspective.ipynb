{
 "cells": [
  {
   "cell_type": "markdown",
   "metadata": {},
   "source": [
    "7.원근변환"
   ]
  },
  {
   "cell_type": "markdown",
   "metadata": {},
   "source": []
  },
  {
   "cell_type": "code",
   "execution_count": 2,
   "metadata": {},
   "outputs": [],
   "source": [
    "import cv2\n",
    "import numpy as np\n",
    "CARD = \"images/card.jpg\""
   ]
  },
  {
   "cell_type": "code",
   "execution_count": 5,
   "metadata": {},
   "outputs": [],
   "source": [
    "img = cv2.imread(CARD)\n",
    "width,height  = 600,200\n",
    "#좌표 시계방향으로\n",
    "src = np.array([[54,261],[981,128],[1213,560],[194,735]],dtype =np.float32) \n",
    "\n",
    "#결과물 출력할 형태 시계방향\n",
    "dst = np.array([[0,0],[width,0],[width,height],[0,height]],dtype=np.float32)\n",
    "#원근을 변형하기 위한 matrix 형성\n",
    "mat = cv2.getPerspectiveTransform(src,dst)\n",
    "\n",
    "#img를 mat에 의해 변환\n",
    "result = cv2.warpPerspective(img, mat,(width, height))\n",
    "\n",
    "cv2.imshow(\"img\", img)\n",
    "cv2.imshow(\"result\",result)\n",
    "\n",
    "cv2.waitKey(0)\n",
    "cv2.destroyAllWindows()"
   ]
  },
  {
   "cell_type": "code",
   "execution_count": 14,
   "metadata": {},
   "outputs": [],
   "source": [
    "GG = \"images/b.jpg\"\n",
    "\n",
    "img = cv2.imread(GG)\n",
    "\n",
    "width,height  = 600,200\n",
    "#좌표 시계방향으로\n",
    "src = np.array([[717, 2353],[69, 1589],[1453, 389],[2117,1097]],dtype =np.float32) \n",
    "\n",
    "#결과물 출력할 형태 시계방향\n",
    "dst = np.array([[0,0],[width,0],[width,height],[0,height]],dtype=np.float32)\n",
    "#원근을 변형하기 위한 matrix 형성\n",
    "mat = cv2.getPerspectiveTransform(src,dst)\n",
    "\n",
    "#img를 mat에 의해 변환\n",
    "result = cv2.warpPerspective(img, mat,(width, height))\n",
    "dst_1 = cv2.resize(result, None,fx =1, fy= 2.5, interpolation=cv2.INTER_LINEAR)\n",
    "img_1 = cv2.pyrDown(img)\n",
    "cv2.imshow(\"img\", img_1)\n",
    "cv2.imshow(\"result\",dst_1)\n",
    "\n",
    "cv2.waitKey(0)\n",
    "cv2.destroyAllWindows()"
   ]
  },
  {
   "cell_type": "code",
   "execution_count": 15,
   "metadata": {},
   "outputs": [
    {
     "ename": "error",
     "evalue": "OpenCV(4.10.0) D:\\a\\opencv-python\\opencv-python\\opencv\\modules\\imgproc\\src\\imgwarp.cpp:3376: error: (-215:Assertion failed) _src.total() > 0 in function 'cv::warpPerspective'\n",
     "output_type": "error",
     "traceback": [
      "\u001b[1;31m---------------------------------------------------------------------------\u001b[0m",
      "\u001b[1;31merror\u001b[0m                                     Traceback (most recent call last)",
      "Cell \u001b[1;32mIn[15], line 15\u001b[0m\n\u001b[0;32m     12\u001b[0m mat \u001b[38;5;241m=\u001b[39m cv2\u001b[38;5;241m.\u001b[39mgetPerspectiveTransform(src,dst)\n\u001b[0;32m     14\u001b[0m \u001b[38;5;66;03m#img를 mat에 의해 변환\u001b[39;00m\n\u001b[1;32m---> 15\u001b[0m result \u001b[38;5;241m=\u001b[39m \u001b[43mcv2\u001b[49m\u001b[38;5;241;43m.\u001b[39;49m\u001b[43mwarpPerspective\u001b[49m\u001b[43m(\u001b[49m\u001b[43mimg\u001b[49m\u001b[43m,\u001b[49m\u001b[43m \u001b[49m\u001b[43mmat\u001b[49m\u001b[43m,\u001b[49m\u001b[43m(\u001b[49m\u001b[43mwidth\u001b[49m\u001b[43m,\u001b[49m\u001b[43m \u001b[49m\u001b[43mheight\u001b[49m\u001b[43m)\u001b[49m\u001b[43m)\u001b[49m\n\u001b[0;32m     16\u001b[0m dst_1 \u001b[38;5;241m=\u001b[39m cv2\u001b[38;5;241m.\u001b[39mresize(result, \u001b[38;5;28;01mNone\u001b[39;00m,fx \u001b[38;5;241m=\u001b[39m\u001b[38;5;241m1\u001b[39m, fy\u001b[38;5;241m=\u001b[39m \u001b[38;5;241m2.5\u001b[39m, interpolation\u001b[38;5;241m=\u001b[39mcv2\u001b[38;5;241m.\u001b[39mINTER_LINEAR)\n\u001b[0;32m     17\u001b[0m img_1 \u001b[38;5;241m=\u001b[39m cv2\u001b[38;5;241m.\u001b[39mpyrDown(img)\n",
      "\u001b[1;31merror\u001b[0m: OpenCV(4.10.0) D:\\a\\opencv-python\\opencv-python\\opencv\\modules\\imgproc\\src\\imgwarp.cpp:3376: error: (-215:Assertion failed) _src.total() > 0 in function 'cv::warpPerspective'\n"
     ]
    }
   ],
   "source": [
    "      \n",
    "MARA = \"images/mara.jpg\"\n",
    "\n",
    "img = cv2.imread(MARA)\n",
    "\n",
    "width,height  = 600,200\n",
    "#좌표 시계방향으로\n",
    "src = np.array([[25,204],[22,114],[194,104],[ 206,208]],dtype =np.float32) \n",
    "\n",
    "#결과물 출력할 형태 시계방향\n",
    "dst = np.array([[0,0],[width,0],[width,height],[0,height]],dtype=np.float32)\n",
    "#원근을 변형하기 위한 matrix 형성\n",
    "mat = cv2.getPerspectiveTransform(src,dst)\n",
    "\n",
    "#img를 mat에 의해 변환\n",
    "result = cv2.warpPerspective(img, mat,(width, height))\n",
    "dst_1 = cv2.resize(result, None,fx =1, fy= 2.5, interpolation=cv2.INTER_LINEAR)\n",
    "img_1 = cv2.pyrDown(img)\n",
    "cv2.imshow(\"img\", img_1)\n",
    "cv2.imshow(\"result\",dst_1)\n",
    "\n",
    "cv2.waitKey(0)\n",
    "cv2.destroyAllWindows()"
   ]
  }
 ],
 "metadata": {
  "kernelspec": {
   "display_name": "my_cv",
   "language": "python",
   "name": "python3"
  },
  "language_info": {
   "codemirror_mode": {
    "name": "ipython",
    "version": 3
   },
   "file_extension": ".py",
   "mimetype": "text/x-python",
   "name": "python",
   "nbconvert_exporter": "python",
   "pygments_lexer": "ipython3",
   "version": "3.12.8"
  }
 },
 "nbformat": 4,
 "nbformat_minor": 2
}
