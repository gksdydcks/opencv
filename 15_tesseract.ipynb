{
 "cells": [
  {
   "cell_type": "markdown",
   "metadata": {},
   "source": [
    "## 15.Tesseract - OCR 광학문자 인식"
   ]
  },
  {
   "cell_type": "code",
   "execution_count": 2,
   "metadata": {},
   "outputs": [
    {
     "name": "stdout",
     "output_type": "stream",
     "text": [
      "Collecting pytesseractNote: you may need to restart the kernel to use updated packages.\n",
      "\n",
      "  Using cached pytesseract-0.3.13-py3-none-any.whl.metadata (11 kB)\n",
      "Requirement already satisfied: packaging>=21.3 in c:\\users\\gksdydcks\\onedrive\\문서\\opencv_project\\my_cv\\lib\\site-packages (from pytesseract) (24.2)\n",
      "Requirement already satisfied: Pillow>=8.0.0 in c:\\users\\gksdydcks\\onedrive\\문서\\opencv_project\\my_cv\\lib\\site-packages (from pytesseract) (11.1.0)\n",
      "Using cached pytesseract-0.3.13-py3-none-any.whl (14 kB)\n",
      "Installing collected packages: pytesseract\n",
      "Successfully installed pytesseract-0.3.13\n"
     ]
    }
   ],
   "source": [
    "%pip install pytesseract\n"
   ]
  },
  {
   "cell_type": "code",
   "execution_count": 2,
   "metadata": {},
   "outputs": [],
   "source": [
    "import cv2\n",
    "from pytesseract import pytesseract as pyt"
   ]
  },
  {
   "cell_type": "code",
   "execution_count": 23,
   "metadata": {},
   "outputs": [
    {
     "name": "stdout",
     "output_type": "stream",
     "text": [
      "112374568|\n",
      "\n",
      "\n"
     ]
    }
   ],
   "source": [
    "\n",
    "\n",
    "pyt.tesseract_cmd = r\"C:\\Users\\gksdydcks\\AppData\\Local\\Programs\\Tesseract-OCR\\tesseract.exe\"\n",
    "img = cv2.imread(\"images/car_number.png\",cv2.IMREAD_GRAYSCALE)\n",
    "text = pyt.image_to_string(img, lang = \"kor\")\n",
    "print(text)"
   ]
  },
  {
   "cell_type": "markdown",
   "metadata": {},
   "source": [
    "#### 이진화 사용 > 정확도 높이기 위해"
   ]
  },
  {
   "cell_type": "code",
   "execution_count": 24,
   "metadata": {},
   "outputs": [
    {
     "name": "stdout",
     "output_type": "stream",
     "text": [
      "112374568|\n",
      "\n",
      "\n"
     ]
    }
   ],
   "source": [
    "img = cv2.imread(\"images/car_number.png\",cv2.IMREAD_GRAYSCALE)\n",
    "pyt.tesseract_cmd = r\"C:\\Users\\gksdydcks\\AppData\\Local\\Programs\\Tesseract-OCR\\tesseract.exe\"\n",
    "ret, binary = cv2.threshold(img, -1, 255, cv2.THRESH_BINARY_INV| cv2.THRESH_OTSU)\n",
    "text_2 = pyt.image_to_string(binary, lang = \"kor\")\n",
    "print(text_2)"
   ]
  },
  {
   "cell_type": "markdown",
   "metadata": {},
   "source": [
    "#### 실습\n"
   ]
  },
  {
   "cell_type": "code",
   "execution_count": 48,
   "metadata": {},
   "outputs": [
    {
     "name": "stdout",
     "output_type": "stream",
     "text": [
      "\n"
     ]
    }
   ],
   "source": [
    "import cv2\n",
    "import numpy as np\n",
    "STOP = \"images/stop.png\"\n",
    "\n",
    "img = cv2.imread(STOP)\n",
    "width,height  = 600,200\n",
    "\n",
    "src = np.array([[36, 37],[189, 37],[193, 183],[37,189]],dtype =np.float32) \n",
    "dst = np.array([[0,0],[width,0],[width,height],[0,height]],dtype=np.float32)\n",
    "mat = cv2.getPerspectiveTransform(src,dst)\n",
    "\n",
    "result = cv2.warpPerspective(img, mat,(width, height))\n",
    "dst_1 = cv2.resize(result, None,fx =1, fy= 2.5, interpolation=cv2.INTER_LINEAR)\n",
    "\n",
    "#이미지 영역 지정 \n",
    "#이미지 읽기\n",
    "pyt.tesseract_cmd = r\"C:\\Users\\gksdydcks\\AppData\\Local\\Programs\\Tesseract-OCR\\tesseract.exe\"\n",
    "ret, binary = cv2.threshold(dst_1, -1, 255,0, cv2.THRESH_BINARY_INV| cv2.THRESH_OTSU)\n",
    "text_2 = pyt.image_to_string(binary, lang = \"eng\")\n",
    "print(text_2)\n",
    "\n",
    "\n",
    "\n",
    "cv2.waitKey(0)\n",
    "cv2.destroyAllWindows()"
   ]
  },
  {
   "cell_type": "code",
   "execution_count": 57,
   "metadata": {},
   "outputs": [
    {
     "name": "stdout",
     "output_type": "stream",
     "text": [
      "\n"
     ]
    }
   ],
   "source": [
    "import cv2\n",
    "import numpy as np\n",
    "point_list = []\n",
    "img = cv2.imread(\"images/stop.png\")\n",
    "\n",
    "# 최종 결과를 출력하는 함수입니다\n",
    "def show_result():\n",
    "  width, height = 600, 350\n",
    "  src = np.array(point_list, dtype=np.float32)\n",
    "  target = np.array([[0,0], [width, 0], [width, height], [0, height]], dtype=np.float32)\n",
    "  mat = cv2.getPerspectiveTransform(src, target)\n",
    "  result = cv2.warpPerspective(img, mat, (width, height))\n",
    "  cv2.imshow(\"result\", result)\n",
    "  _, binary = cv2.threshold(result, -1, 255,0, cv2.THRESH_BINARY_INV| cv2.THRESH_OTSU)\n",
    "  text_2 = pyt.image_to_string(binary, lang = \"eng\")\n",
    "  print(text_2)\n",
    "\n",
    "drawing = False \n",
    "def on_mouse(event, x, y, flags, _):\n",
    "  global drawing\n",
    "  coppied = img.copy()\n",
    "\n",
    "  if event == cv2.EVENT_LBUTTONDOWN:\n",
    "    drawing = True\n",
    "    point_list.append((x,y))\n",
    "\n",
    "  if drawing:\n",
    "    prev_point = None\n",
    "    for point in point_list:\n",
    "      cv2.circle(coppied, point, 4, (100,100,200), cv2.FILLED)\n",
    "      if prev_point:\n",
    "        cv2.line(coppied, prev_point, point, (100,100,200), 2)\n",
    "      prev_point = point\n",
    "\n",
    "    next_point = (x,y)\n",
    "    if len(point_list) == 4:\n",
    "      next_point = point_list[0]\n",
    "      show_result()\n",
    "    cv2.line(coppied, point_list[-1], next_point, (100,100,200), 2)\n",
    "\n",
    "  cv2.imshow(name, coppied)\n",
    "  pyt.tesseract_cmd = r\"C:\\Users\\gksdydcks\\AppData\\Local\\Programs\\Tesseract-OCR\\tesseract.exe\"\n",
    "  \n",
    "\n",
    "\n",
    "name = \"Scanner\"\n",
    "cv2.namedWindow(name)\n",
    "cv2.setMouseCallback(name, on_mouse)\n",
    "cv2.imshow(name, img)\n",
    "cv2.waitKey(0)\n",
    "cv2.destroyAllWindows()\n",
    "\n"
   ]
  }
 ],
 "metadata": {
  "kernelspec": {
   "display_name": "my_cv",
   "language": "python",
   "name": "python3"
  },
  "language_info": {
   "codemirror_mode": {
    "name": "ipython",
    "version": 3
   },
   "file_extension": ".py",
   "mimetype": "text/x-python",
   "name": "python",
   "nbconvert_exporter": "python",
   "pygments_lexer": "ipython3",
   "version": "3.12.8"
  }
 },
 "nbformat": 4,
 "nbformat_minor": 2
}
