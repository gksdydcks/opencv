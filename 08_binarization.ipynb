{
 "cells": [
  {
   "cell_type": "markdown",
   "metadata": {},
   "source": [
    "##8.이진화\n",
    "    임계값을 기준으로 색상을 흰색과 검은색으로 나누는 것"
   ]
  },
  {
   "cell_type": "code",
   "execution_count": 1,
   "metadata": {},
   "outputs": [],
   "source": [
    "import cv2\n",
    "import numpy as np\n",
    "BOOK = (\"images/book.jpg\")"
   ]
  },
  {
   "cell_type": "markdown",
   "metadata": {},
   "source": [
    "8-1. 기본 이진화"
   ]
  },
  {
   "cell_type": "code",
   "execution_count": 2,
   "metadata": {},
   "outputs": [
    {
     "ename": "error",
     "evalue": "OpenCV(4.10.0) :-1: error: (-5:Bad argument) in function 'threshold'\n> Overload resolution failed:\n>  - threshold() missing required argument 'src' (pos 1)\n>  - threshold() missing required argument 'src' (pos 1)\n",
     "output_type": "error",
     "traceback": [
      "\u001b[1;31m---------------------------------------------------------------------------\u001b[0m",
      "\u001b[1;31merror\u001b[0m                                     Traceback (most recent call last)",
      "Cell \u001b[1;32mIn[2], line 1\u001b[0m\n\u001b[1;32m----> 1\u001b[0m ret, binary \u001b[38;5;241m=\u001b[39m \u001b[43mcv2\u001b[49m\u001b[38;5;241;43m.\u001b[39;49m\u001b[43mthreshold\u001b[49m\u001b[43m(\u001b[49m\u001b[43m)\u001b[49m\n",
      "\u001b[1;31merror\u001b[0m: OpenCV(4.10.0) :-1: error: (-5:Bad argument) in function 'threshold'\n> Overload resolution failed:\n>  - threshold() missing required argument 'src' (pos 1)\n>  - threshold() missing required argument 'src' (pos 1)\n"
     ]
    }
   ],
   "source": [
    "ret, binary = cv2.threshold()"
   ]
  },
  {
   "cell_type": "markdown",
   "metadata": {},
   "source": [
    "THRESH_BINARY = 임계값보다 크면 흰색 작으면 검은색"
   ]
  },
  {
   "cell_type": "code",
   "execution_count": 3,
   "metadata": {},
   "outputs": [],
   "source": [
    "img = cv2.imread(BOOK, cv2.IMREAD_GRAYSCALE)\n",
    "#임계값설정 중앙값 127,0과 255로 나눔(흰색과 검은색으로 나누기위해)\n",
    "#임계값 높으면 검게 낮으면 하얗게 출력\n",
    "ret, binary = cv2.threshold(img, 200, 255, cv2.THRESH_BINARY)\n",
    "\n",
    "# print(ret)\n",
    "# print(binary)\n",
    "cv2.imshow(\"img\",img)\n",
    "cv2.imshow(\"binary\",binary)\n",
    "\n",
    "cv2.waitKey(0)\n",
    "cv2.destroyAllWindows()"
   ]
  },
  {
   "cell_type": "markdown",
   "metadata": {},
   "source": [
    "8-2 트랙바"
   ]
  },
  {
   "cell_type": "code",
   "execution_count": null,
   "metadata": {},
   "outputs": [],
   "source": [
    "img = cv2.imread(\"images/cat.jpg\")\n",
    "img_1 = cv2.pyrDown(img)\n",
    "img_2 = cv2.pyrDown(img_1)\n",
    "trackbar_nmae = \"Rotation\"\n",
    "name = \"Trackbar\"\n",
    "\n",
    "cv2.namedWindow(name)\n",
    "#트랙바 이름 , 트랙바 붙을 윈도우, 초기값, 최대값,\n",
    "cv2.createTrackbar(trackbar_nmae, name, 0,360, lambda x:x)\n",
    "#트랙바 변경시마다 로직\n",
    "while True:\n",
    "    angle = cv2.getTrackbarPos(trackbar_nmae,name )\n",
    "    center = (img_1.shape[1]/2, img.shape[0]/2) #원 중심\n",
    "    affine = cv2.getRotationMatrix2D(center, angle, 2)\n",
    "    dst = cv2.warpAffine(img_1, affine, (img_1.shape [1], img_1.shape [0])) #가로1 세로0\n",
    "\n",
    "    # cv2.imshow(\"origin\",img_2)\n",
    "    cv2.imshow(name,dst)\n",
    "\n",
    "    if cv2.waitKey(1) == ord(\"q\"):\n",
    "        break\n",
    "cv2.destroyAllWindows()"
   ]
  },
  {
   "cell_type": "markdown",
   "metadata": {},
   "source": [
    "실습2-2. 트랙바를 적용한 이진화"
   ]
  },
  {
   "cell_type": "code",
   "execution_count": 5,
   "metadata": {},
   "outputs": [],
   "source": [
    "img = cv2.imread(BOOK, cv2.IMREAD_GRAYSCALE)\n",
    "trackbar_name = \"threshold\"\n",
    "name = \"threshold\"\n",
    "\n",
    "cv2.namedWindow(name)\n",
    "cv2.createTrackbar(trackbar_name, name, 127,255, lambda x:x) #트랙바 최대치 127~255\n",
    "\n",
    "\n",
    "while True:\n",
    "    threshold = cv2.getTrackbarPos(trackbar_name,name )\n",
    "    ret, binary = cv2.threshold(img, threshold, 255, cv2.THRESH_BINARY ) #0과 255로 나눔\n",
    "\n",
    "    cv2.imshow(name ,binary)\n",
    "    if cv2.waitKey(1) == ord(\"q\"):\n",
    "        break\n",
    "cv2.destroyAllWindows()"
   ]
  },
  {
   "cell_type": "markdown",
   "metadata": {},
   "source": [
    "실습.트랙바 이용 컬레 팔레트 "
   ]
  },
  {
   "cell_type": "code",
   "execution_count": null,
   "metadata": {},
   "outputs": [],
   "source": [
    "import cv2\n",
    "import numpy as np\n",
    "\n",
    "img = np.zeros((460, 640, 3),dtype = np.uint8)\n",
    "trackbar_r = \"R\"\n",
    "trackbar_g = \"G\"\n",
    "trackbar_b = \"B\"\n",
    "switch = \"0:OFF\\n1:ON\"\n",
    "name = \"threshold\"\n",
    "# img(B,G,R)\n",
    "\n",
    "\n",
    "cv2.namedWindow(name)\n",
    "cv2.createTrackbar(trackbar_r, name, 0, 255, lambda x:x) \n",
    "cv2.createTrackbar(trackbar_g, name, 0, 255, lambda x:x )\n",
    "cv2.createTrackbar(trackbar_b, name, 0, 255, lambda x:x)\n",
    "cv2.createTrackbar(switch, name, 0, 1, lambda x:x)\n",
    "\n",
    "while True:\n",
    "    R = cv2.getTrackbarPos(trackbar_r,name)\n",
    "    G = cv2.getTrackbarPos(trackbar_g,name)\n",
    "    B = cv2.getTrackbarPos(trackbar_b,name)\n",
    "    S = cv2.getTrackbarPos(switch,name)\n",
    "    if S == 1:\n",
    "        img[:] = (B,G,R)\n",
    "    else:\n",
    "        img[:] = (0,0,0)\n",
    "        \n",
    "    cv2.imshow(name ,img)\n",
    "    if cv2.waitKey(1) == ord(\"q\"):\n",
    "        break\n",
    "cv2.destroyAllWindows()"
   ]
  },
  {
   "cell_type": "code",
   "execution_count": 3,
   "metadata": {},
   "outputs": [],
   "source": [
    "import cv2\n",
    "import numpy as np\n",
    "img = np.zeros((600,600,3),dtype=np.uint8)\n",
    "name = \"palette\"\n",
    "cv2.namedWindow(name)\n",
    "\n",
    "cv2.createTrackbar(\"B\", name, 0, 255, lambda x:x)\n",
    "cv2.createTrackbar(\"G\", name, 0, 255, lambda x:x)\n",
    "cv2.createTrackbar(\"R\", name, 0, 255, lambda x:x)\n",
    "cv2.createTrackbar(\"Switch\", name, 0, 1, lambda x:x)\n",
    "\n",
    "while True:\n",
    "  b = cv2.getTrackbarPos(\"B\", name)\n",
    "  g = cv2.getTrackbarPos(\"G\", name)\n",
    "  r = cv2.getTrackbarPos(\"R\", name)\n",
    "  s = cv2.getTrackbarPos(\"Switch\", name)\n",
    "\n",
    "  if s == 1:\n",
    "    img[:] = (b,g,r)\n",
    "  else:\n",
    "    img[:] = 0\n",
    "    \n",
    "  cv2.imshow(name, img)\n",
    "\n",
    "  if cv2.waitKey(1) == ord(\"q\"):\n",
    "    break\n",
    "\n",
    "cv2.destroyAllWindows()"
   ]
  },
  {
   "cell_type": "markdown",
   "metadata": {},
   "source": [
    "8-2. 적응형 이진화\n",
    "\n",
    "블록마다 다른 임계값을 적용\n",
    "\n",
    "cv2.ADAPTIVE_THRESH_GAUSSIAN_C = 부드럽게 이진화"
   ]
  },
  {
   "cell_type": "code",
   "execution_count": 9,
   "metadata": {},
   "outputs": [],
   "source": [
    "import cv2\n",
    "import numpy as np\n",
    "BOOK = (\"images/book.jpg\")\n",
    "\n",
    "img =cv2.imread(BOOK,cv2.IMREAD_GRAYSCALE)\n",
    "name = \"Adaptive\"\n",
    "cv2.namedWindow(name)\n",
    "\n",
    "cv2.createTrackbar(\"block_size\", name, 50, 100, lambda x: x) #홀수만 가능, 1보다 큰 값\n",
    "cv2.createTrackbar(\"C\", name, 1,10, lambda x: x)    #일반적으로 양수값 //임계값에서 특정값을 뺌\n",
    "\n",
    "while True:\n",
    "    block_size =cv2.getTrackbarPos(\"block_size\", name)\n",
    "    C = cv2.getTrackbarPos(\"C\", name)\n",
    "\n",
    "    if block_size <= 1:\n",
    "        block_size = 3\n",
    "    \n",
    "    if block_size %2 ==0:\n",
    "        block_size +=1\n",
    "    \n",
    "    binary = cv2.adaptiveThreshold(img, 255,cv2.ADAPTIVE_THRESH_MEAN_C, cv2.THRESH_BINARY,block_size,C)\n",
    "\n",
    "    cv2.imshow(name,binary)\n",
    "\n",
    "    if cv2.waitKey(1) == ord(\"q\"):\n",
    "        break\n",
    "cv2.destroyAllWindows()"
   ]
  },
  {
   "cell_type": "markdown",
   "metadata": {},
   "source": [
    "###8-3. 오츠 알고리즘\n",
    "-최적의  threshold를 찾는 알고리즘"
   ]
  },
  {
   "cell_type": "code",
   "execution_count": null,
   "metadata": {},
   "outputs": [
    {
     "name": "stdout",
     "output_type": "stream",
     "text": [
      "127.0 138.0\n"
     ]
    }
   ],
   "source": [
    "img =cv2.imread(BOOK, cv2.IMREAD_GRAYSCALE)\n",
    "ret_1, binary = cv2.threshold(img, 127, 255, cv2.THRESH_BINARY)\n",
    "ret_2, otsu = cv2.threshold(img, -1, 255, cv2.THRESH_BINARY|cv2.THRESH_OTSU)\n",
    "\n",
    "# print(ret_1,ret_2)\n",
    "\n",
    "cv2.imshow(\"img\",img)\n",
    "cv2.imshow(\"binary\",binary)\n",
    "cv2.imshow(\"otsu\",otsu)\n",
    "\n",
    "cv2.waitKey(0)\n",
    "cv2.destroyAllWindows()"
   ]
  }
 ],
 "metadata": {
  "kernelspec": {
   "display_name": "my_cv",
   "language": "python",
   "name": "python3"
  },
  "language_info": {
   "codemirror_mode": {
    "name": "ipython",
    "version": 3
   },
   "file_extension": ".py",
   "mimetype": "text/x-python",
   "name": "python",
   "nbconvert_exporter": "python",
   "pygments_lexer": "ipython3",
   "version": "3.12.8"
  }
 },
 "nbformat": 4,
 "nbformat_minor": 2
}
