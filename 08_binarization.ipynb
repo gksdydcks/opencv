{
 "cells": [
  {
   "cell_type": "markdown",
   "metadata": {},
   "source": [
    "##8.이진화\n",
    "    임계값을 기준으로 색상을 흰색과 검은색으로 나누는 것"
   ]
  },
  {
   "cell_type": "code",
   "execution_count": 3,
   "metadata": {},
   "outputs": [],
   "source": [
    "import cv2\n",
    "import numpy as np\n",
    "BOOK = (\"images/book.jpg\")"
   ]
  },
  {
   "cell_type": "markdown",
   "metadata": {},
   "source": [
    "8-1. 기본 이진화"
   ]
  },
  {
   "cell_type": "code",
   "execution_count": null,
   "metadata": {},
   "outputs": [],
   "source": [
    "ret, binary = cv2.threshold()"
   ]
  },
  {
   "cell_type": "markdown",
   "metadata": {},
   "source": [
    "THRESH_BINARY = 임계값보다 크면 흰색 작으면 검은색"
   ]
  },
  {
   "cell_type": "code",
   "execution_count": 10,
   "metadata": {},
   "outputs": [],
   "source": [
    "img = cv2.imread(BOOK, cv2.IMREAD_GRAYSCALE)\n",
    "#임계값설정 중앙값 127,0과 255로 나눔(흰색과 검은색으로 나누기위해)\n",
    "#임계값 높으면 검게 낮으면 하얗게 출력\n",
    "ret, binary = cv2.threshold(img, 200, 255, cv2.THRESH_BINARY )\n",
    "\n",
    "# print(ret)\n",
    "# print(binary)\n",
    "cv2.imshow(\"img\",img)\n",
    "cv2.imshow(\"binary\",binary)\n",
    "\n",
    "cv2.waitKey(0)\n",
    "cv2.destroyAllWindows()"
   ]
  },
  {
   "cell_type": "markdown",
   "metadata": {},
   "source": [
    "8-2 트랙바"
   ]
  },
  {
   "cell_type": "code",
   "execution_count": null,
   "metadata": {},
   "outputs": [],
   "source": [
    "img = cv2.imread(\"images/cat.jpg\")\n",
    "img_1 = cv2.pyrDown(img)\n",
    "img_2 = cv2.pyrDown(img_1)\n",
    "trackbar_nmae = \"Rotation\"\n",
    "name = \"Trackbar\"\n",
    "\n",
    "cv2.namedWindow(name)\n",
    "#트랙바 이름 , 트랙바 붙을 윈도우, 초기값, 최대값,\n",
    "cv2.createTrackbar(trackbar_nmae, name, 0,360, lambda x:x)\n",
    "#트랙바 변경시마다 로직\n",
    "while True:\n",
    "    angle = cv2.getTrackbarPos(trackbar_nmae,name )\n",
    "    center = (img_1.shape[1]/2, img.shape[0]/2) #원 중심\n",
    "    affine = cv2.getRotationMatrix2D(center, angle, 2)\n",
    "    dst = cv2.warpAffine(img_1, affine, (img_1.shape [1], img_1.shape [0])) #가로1 세로0\n",
    "\n",
    "    # cv2.imshow(\"origin\",img_2)\n",
    "    cv2.imshow(name,dst)\n",
    "\n",
    "    if cv2.waitKey(1) == ord(\"q\"):\n",
    "        break\n",
    "cv2.destroyAllWindows()"
   ]
  },
  {
   "cell_type": "markdown",
   "metadata": {},
   "source": [
    "실습2-2. 트랙바를 적용한 이진화"
   ]
  },
  {
   "cell_type": "code",
   "execution_count": 7,
   "metadata": {},
   "outputs": [],
   "source": [
    "img = cv2.imread(BOOK, cv2.IMREAD_GRAYSCALE)\n",
    "trackbar_name = \"threshold\"\n",
    "name = \"threshold\"\n",
    "\n",
    "cv2.namedWindow(name)\n",
    "cv2.createTrackbar(trackbar_name, name, 127,255, lambda x:x) #트랙바 최대치 127~255\n",
    "\n",
    "\n",
    "while True:\n",
    "    threshold = cv2.getTrackbarPos(trackbar_name,name )\n",
    "    ret, binary = cv2.threshold(img, threshold, 255, cv2.THRESH_BINARY ) #0과 255로 나눔\n",
    "\n",
    "    cv2.imshow(name ,binary)\n",
    "    if cv2.waitKey(1) == ord(\"q\"):\n",
    "        break\n",
    "cv2.destroyAllWindows()"
   ]
  },
  {
   "cell_type": "markdown",
   "metadata": {},
   "source": [
    "실습.트랙바 이용 컬레 팔레트 "
   ]
  },
  {
   "cell_type": "code",
   "execution_count": 22,
   "metadata": {},
   "outputs": [
    {
     "ename": "error",
     "evalue": "OpenCV(4.10.0) :-1: error: (-5:Bad argument) in function 'threshold'\n> Overload resolution failed:\n>  - threshold() missing required argument 'type' (pos 4)\n>  - threshold() missing required argument 'type' (pos 4)\n",
     "output_type": "error",
     "traceback": [
      "\u001b[1;31m---------------------------------------------------------------------------\u001b[0m",
      "\u001b[1;31merror\u001b[0m                                     Traceback (most recent call last)",
      "Cell \u001b[1;32mIn[22], line 17\u001b[0m\n\u001b[0;32m     15\u001b[0m \u001b[38;5;28;01mwhile\u001b[39;00m \u001b[38;5;28;01mTrue\u001b[39;00m:\n\u001b[0;32m     16\u001b[0m     threshold_r \u001b[38;5;241m=\u001b[39m cv2\u001b[38;5;241m.\u001b[39mgetTrackbarPos(trackbar_r,name,)\n\u001b[1;32m---> 17\u001b[0m     ret, binary \u001b[38;5;241m=\u001b[39m \u001b[43mcv2\u001b[49m\u001b[38;5;241;43m.\u001b[39;49m\u001b[43mthreshold\u001b[49m\u001b[43m(\u001b[49m\u001b[43mimg\u001b[49m\u001b[43m,\u001b[49m\u001b[43m \u001b[49m\u001b[43mthreshold_r\u001b[49m\u001b[43m,\u001b[49m\u001b[43m \u001b[49m\u001b[43mcv2\u001b[49m\u001b[38;5;241;43m.\u001b[39;49m\u001b[43mTHRESH_BINARY\u001b[49m\u001b[43m)\u001b[49m\n\u001b[0;32m     20\u001b[0m     cv2\u001b[38;5;241m.\u001b[39mimshow(name ,binary)\n\u001b[0;32m     21\u001b[0m     \u001b[38;5;28;01mif\u001b[39;00m cv2\u001b[38;5;241m.\u001b[39mwaitKey(\u001b[38;5;241m1\u001b[39m) \u001b[38;5;241m==\u001b[39m \u001b[38;5;28mord\u001b[39m(\u001b[38;5;124m\"\u001b[39m\u001b[38;5;124mq\u001b[39m\u001b[38;5;124m\"\u001b[39m):\n",
      "\u001b[1;31merror\u001b[0m: OpenCV(4.10.0) :-1: error: (-5:Bad argument) in function 'threshold'\n> Overload resolution failed:\n>  - threshold() missing required argument 'type' (pos 4)\n>  - threshold() missing required argument 'type' (pos 4)\n"
     ]
    }
   ],
   "source": [
    "import cv2\n",
    "import numpy as np\n",
    "\n",
    "img = np.zeros((460, 640, 3),dtype = np.uint8)\n",
    "trackbar_r = \"R\"\n",
    "trackbar_g = \"G\"\n",
    "trackbar_b = \"B\"\n",
    "name = \"threshold\"\n",
    "\n",
    "img[:] = (0,0,0)\n",
    "\n",
    "cv2.namedWindow(name)\n",
    "cv2.createTrackbar(trackbar_r, name, 0,255, lambda x:x) \n",
    "\n",
    "while True:\n",
    "    threshold_r = cv2.getTrackbarPos(trackbar_r,name,)\n",
    "    ret, binary = cv2.threshold(img, threshold_r, cv2.THRESH_BINARY)\n",
    "    \n",
    "   \n",
    "    cv2.imshow(name ,binary)\n",
    "    if cv2.waitKey(1) == ord(\"q\"):\n",
    "        break\n",
    "cv2.destroyAllWindows()"
   ]
  },
  {
   "cell_type": "markdown",
   "metadata": {},
   "source": [
    "적응형 이진화"
   ]
  }
 ],
 "metadata": {
  "kernelspec": {
   "display_name": "my_cv",
   "language": "python",
   "name": "python3"
  },
  "language_info": {
   "codemirror_mode": {
    "name": "ipython",
    "version": 3
   },
   "file_extension": ".py",
   "mimetype": "text/x-python",
   "name": "python",
   "nbconvert_exporter": "python",
   "pygments_lexer": "ipython3",
   "version": "3.12.8"
  }
 },
 "nbformat": 4,
 "nbformat_minor": 2
}
