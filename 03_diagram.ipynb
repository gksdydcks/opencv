{
 "cells": [
  {
   "cell_type": "markdown",
   "metadata": {},
   "source": [
    "03.도형그리기"
   ]
  },
  {
   "cell_type": "code",
   "execution_count": 2,
   "metadata": {},
   "outputs": [],
   "source": [
    "import cv2\n",
    "import numpy as np"
   ]
  },
  {
   "cell_type": "markdown",
   "metadata": {},
   "source": [
    "3-1 빈화면 만들기"
   ]
  },
  {
   "cell_type": "code",
   "execution_count": 5,
   "metadata": {},
   "outputs": [],
   "source": [
    "img = np.zeros((460, 640, 3),dtype = np.uint8)#zeros=0행렬  #\n",
    "##int=-128~127(음수값)/uint=0 ~256(양수값) \n",
    "# img     #[B,G,R]\n",
    "# img[:] = (255,255,255)  #흰배경\n",
    "cv2.imshow(\"img\",img)\n",
    "cv2.waitKey(0)\n",
    "cv2.destroyAllWindows()"
   ]
  },
  {
   "cell_type": "markdown",
   "metadata": {},
   "source": [
    "3-2 일부 영역 색칠"
   ]
  },
  {
   "cell_type": "code",
   "execution_count": 29,
   "metadata": {},
   "outputs": [],
   "source": [
    "img = np.zeros((460, 640, 3),dtype = np.uint8)#zeros=0행렬  #\n",
    "##int=-128~127(음수값)/uint=0 ~256(양수값) \n",
    "# img(B,G,R)\n",
    "img[300:400, 100:200] = (155,230,255)   #세로 가로?\n",
    "cv2.imshow(\"img\",img)\n",
    "cv2.waitKey(0)\n",
    "cv2.destroyAllWindows()"
   ]
  },
  {
   "cell_type": "markdown",
   "metadata": {},
   "source": [
    "3-3선그리기\n",
    "#cv2.LINE_4 : 상하좌우 4방향 연결선/점중심 4픽셀\n",
    "#cv2.LINE_8 : 대간선 포함 8방향 연결(기본값)/8픽셀\n",
    "#cv2.LINE_AA :부드러운 선(Anti-Aliasing적용)"
   ]
  },
  {
   "cell_type": "code",
   "execution_count": 34,
   "metadata": {},
   "outputs": [],
   "source": [
    "img = np.zeros((460, 640, 3),dtype = np.uint8)\n",
    "\n",
    "#cv2.line(img,(시작,시작), (끝,끝), (색,색,색), 두께, 라인타입)\n",
    "cv2.line(img,(50,100), (400,50), (255,255,255), 4, cv2.LINE_4)\n",
    "cv2.line(img,(100,200), (400,150), (255,255,255), 4, cv2.LINE_8)\n",
    "cv2.line(img,(150,300), (400,250), (255,255,255), 4, cv2.LINE_AA)\n",
    "\n",
    "\n",
    "cv2.imshow(\"img\",img)\n",
    "cv2.waitKey(0)\n",
    "cv2.destroyAllWindows()"
   ]
  },
  {
   "cell_type": "markdown",
   "metadata": {},
   "source": [
    "3-4. \n",
    "원그리기"
   ]
  },
  {
   "cell_type": "code",
   "execution_count": 55,
   "metadata": {},
   "outputs": [],
   "source": [
    "img = np.zeros((460, 640, 3),dtype = np.uint8)\n",
    "radius = 100\n",
    "color = (50,255,100)\n",
    "thickness = 10\n",
    "\n",
    "#중심, 반지름, 색, 두께, 라인 타입\n",
    "#속이 비어있는 원\n",
    "cv2.circle(img, (300,300), radius, color,thickness,cv2.LINE_AA)\n",
    "#속이 차있는 원\n",
    "cv2.circle(img, (300,175), radius, color,cv2.FILLED,cv2.LINE_AA)\n",
    "\n",
    "cv2.imshow(\"img\",img)\n",
    "cv2.waitKey(0)\n",
    "cv2.destroyAllWindows()"
   ]
  },
  {
   "cell_type": "markdown",
   "metadata": {},
   "source": [
    "3-5.타원그리기"
   ]
  },
  {
   "cell_type": "code",
   "execution_count": 63,
   "metadata": {},
   "outputs": [],
   "source": [
    "img = np.zeros((460, 640, 3),dtype = np.uint8)\n",
    "#중심, (가로,세로), 각, 시작하는지점,끝지점,색,라인타입)\n",
    "cv2.ellipse(img, (300,200),(100,50),30,95,275,(0,0,255),cv2.LINE_AA)\n",
    "\n",
    "cv2.imshow(\"img\",img)\n",
    "cv2.waitKey(0)\n",
    "cv2.destroyAllWindows()"
   ]
  },
  {
   "cell_type": "markdown",
   "metadata": {},
   "source": [
    "3-6. 사각형 그리기\n"
   ]
  },
  {
   "cell_type": "code",
   "execution_count": 69,
   "metadata": {},
   "outputs": [],
   "source": [
    "img = np.zeros((460, 640, 3),dtype = np.uint8)\n",
    "#(왼쪽끝,오른쪽끝)\n",
    "cv2.rectangle(img, (50,50),(250,250),(255,255,0),cv2.LINE_AA)\n",
    "cv2.rectangle(img, (200,50),(400,250),(255,255,0),cv2.FILLED,cv2.LINE_AA)\n",
    "\n",
    "cv2.imshow(\"Rectangle\",img)\n",
    "cv2.waitKey(0)\n",
    "cv2.destroyAllWindows()"
   ]
  },
  {
   "cell_type": "markdown",
   "metadata": {},
   "source": [
    "3-7.다각형 그리기 (선)"
   ]
  },
  {
   "cell_type": "code",
   "execution_count": null,
   "metadata": {},
   "outputs": [],
   "source": [
    "img = np.zeros((460, 640, 3),dtype = np.uint8)\n",
    "pts = np.array([[[100,100],[200,100],[100,200]]])\n",
    "#다각형 그릴 포인트,,색,선 두께\n",
    "cv2.polylines(img, pts,True, (255,0,255),5)\n",
    "\n",
    "cv2.imshow(\"Polylines\",img)\n",
    "cv2.waitKey(0)\n",
    "cv2.destroyAllWindows()"
   ]
  },
  {
   "cell_type": "code",
   "execution_count": null,
   "metadata": {},
   "outputs": [],
   "source": [
    "img = np.zeros((460, 640, 3),dtype = np.uint8)\n",
    "pts = np.array([[[100,100],[200,100],[100,200]]]) #삼각형\n",
    "#다각형 채우기\n",
    "cv2.fillPoly(img, pts,(255,0,255))\n",
    "\n",
    "cv2.imshow(\"Polylines\",img)\n",
    "cv2.waitKey(0)\n",
    "cv2.destroyAllWindows()"
   ]
  }
 ],
 "metadata": {
  "kernelspec": {
   "display_name": "my_cv",
   "language": "python",
   "name": "python3"
  },
  "language_info": {
   "codemirror_mode": {
    "name": "ipython",
    "version": 3
   },
   "file_extension": ".py",
   "mimetype": "text/x-python",
   "name": "python",
   "nbconvert_exporter": "python",
   "pygments_lexer": "ipython3",
   "version": "3.12.8"
  }
 },
 "nbformat": 4,
 "nbformat_minor": 2
}
