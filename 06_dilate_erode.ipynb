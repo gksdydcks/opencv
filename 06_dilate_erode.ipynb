{
 "cells": [
  {
   "cell_type": "markdown",
   "metadata": {},
   "source": [
    "6.팽창과 침식"
   ]
  },
  {
   "cell_type": "markdown",
   "metadata": {},
   "source": [
    "6-1 팽창\n",
    "흰색 영역을 확장하여 검은 영역을 채움"
   ]
  },
  {
   "cell_type": "code",
   "execution_count": 3,
   "metadata": {},
   "outputs": [],
   "source": [
    "import cv2\n",
    "import numpy as np\n",
    "\n",
    "DILTAE = \"images/dilate.png\"\n",
    "ERODE =\"images/erode.png\"\n",
    "\n"
   ]
  },
  {
   "cell_type": "code",
   "execution_count": 7,
   "metadata": {},
   "outputs": [],
   "source": [
    "img = cv2.imread(DILTAE, cv2.IMREAD_GRAYSCALE)\n",
    "\n",
    "kernel = np.ones((3,3), dtype =np.uint8)\n",
    "dilate_1 = cv2.dilate(img, kernel, iterations =1)\n",
    "dilate_2 = cv2.dilate(img, kernel, iterations =2)\n",
    "dilate_3 = cv2.dilate(img, kernel, iterations =3)\n",
    "\n",
    "cv2.imshow(\"img\", img)\n",
    "cv2.imshow(\"dilate_1\", dilate_1)\n",
    "cv2.imshow(\"dilate_2\", dilate_2)\n",
    "cv2.imshow(\"dilate_3\", dilate_3)\n",
    "\n",
    "cv2.waitKey(0)\n",
    "cv2.destroyAllWindows()"
   ]
  },
  {
   "cell_type": "markdown",
   "metadata": {},
   "source": [
    "침식"
   ]
  },
  {
   "cell_type": "code",
   "execution_count": 9,
   "metadata": {},
   "outputs": [],
   "source": [
    "img = cv2.imread(ERODE, cv2.IMREAD_GRAYSCALE)\n",
    "\n",
    "kernel = np.ones((3,3), dtype =np.uint8)\n",
    "erode_1 = cv2.dilate(img, kernel, iterations =1)\n",
    "erode_2 = cv2.dilate(img, kernel, iterations =2)\n",
    "erode_3 = cv2.dilate(img, kernel, iterations =3)\n",
    "\n",
    "cv2.imshow(\"img\", img)\n",
    "cv2.imshow(\"erode_1\", erode_1)\n",
    "cv2.imshow(\"erode_2\", erode_2)\n",
    "cv2.imshow(\"erode_3\", erode_3)\n",
    "\n",
    "cv2.waitKey(0)\n",
    "cv2.destroyAllWindows()"
   ]
  },
  {
   "cell_type": "markdown",
   "metadata": {},
   "source": [
    "###6-3. 열림\n",
    "침식 후 챙창"
   ]
  },
  {
   "cell_type": "code",
   "execution_count": null,
   "metadata": {},
   "outputs": [],
   "source": [
    "img = cv2.imread(ERODE, cv2.IMREAD_GRAYSCALE)\n",
    "\n",
    "kernel = np.ones((3,3), dtype =np.uint8)\n",
    "dilate_3 = cv2.dilate(img, kernel, iterations =3)\n",
    "erode_3 = cv2.dilate(img, kernel, iterations =3)\n",
    "\n",
    "cv2.imshow(\"img\", img)\n",
    "cv2.imshow(\"dilate_3\", dilate_3)\n",
    "cv2.imshow(\"erode_3\", erode_3)\n",
    "\n",
    "cv2.waitKey(0)\n",
    "cv2.destroyAllWindows()\n"
   ]
  }
 ],
 "metadata": {
  "kernelspec": {
   "display_name": "my_cv",
   "language": "python",
   "name": "python3"
  },
  "language_info": {
   "codemirror_mode": {
    "name": "ipython",
    "version": 3
   },
   "file_extension": ".py",
   "mimetype": "text/x-python",
   "name": "python",
   "nbconvert_exporter": "python",
   "pygments_lexer": "ipython3",
   "version": "3.12.8"
  }
 },
 "nbformat": 4,
 "nbformat_minor": 2
}
