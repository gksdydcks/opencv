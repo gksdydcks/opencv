{
 "cells": [
  {
   "cell_type": "markdown",
   "metadata": {},
   "source": [
    "### 12. 윤곽선 검출\n",
    "- 경계선을 연결한 선\n",
    "- 흑백이미지 ->이진화 ->윤곽선 찾기(findContours)->윤곽선 그리기(drawCotours)"
   ]
  },
  {
   "cell_type": "code",
   "execution_count": 3,
   "metadata": {},
   "outputs": [],
   "source": [
    "import cv2\n",
    "BORI = \"images/bori.jpg\""
   ]
  },
  {
   "cell_type": "markdown",
   "metadata": {},
   "source": [
    "#### 12-1. 윤곽선 기본"
   ]
  },
  {
   "cell_type": "code",
   "execution_count": 15,
   "metadata": {},
   "outputs": [],
   "source": [
    "img = cv2.imread(BORI)\n",
    "coppied = img.copy()\n",
    "coppied_2= img.copy()\n",
    "#그레이 스케일로 변환\n",
    "gray = cv2.cvtColor(coppied, cv2.COLOR_RGBA2GRAY)\n",
    "\n",
    "#이진화\n",
    "ret,binary = cv2.threshold(gray, -1, 255,cv2.THRESH_BINARY|cv2.THRESH_OTSU)\n",
    "#윤곽선 찾기\n",
    "contours, hierachy=cv2.findContours(binary, cv2.RETR_LIST, cv2.CHAIN_APPROX_NONE)\n",
    "contours_2, hierachy_2=cv2.findContours(binary, cv2.RETR_EXTERNAL, cv2.CHAIN_APPROX_NONE)\n",
    "#윤곽선 그리기\n",
    "cv2.drawContours(coppied,contours,-1,(0,200,0),2)\n",
    "cv2.drawContours(coppied_2,contours_2,-1,(0,200,0),2)    #-1 : 모든 윤곽선 표시\n",
    "\n",
    "cv2.imshow(\"img\",img)\n",
    "cv2.imshow(\"contours\",coppied)\n",
    "cv2.imshow(\"contours_2\",coppied_2)\n",
    "cv2.waitKey(0)\n",
    "cv2.destroyAllWindows()\n",
    "\n",
    "\n"
   ]
  },
  {
   "cell_type": "markdown",
   "metadata": {},
   "source": [
    "#### 12-2. 윤곽선 경계 사각형"
   ]
  },
  {
   "cell_type": "code",
   "execution_count": 4,
   "metadata": {},
   "outputs": [],
   "source": [
    "img = cv2.imread(BORI)\n",
    "coppied = img.copy()\n",
    "\n",
    "gray = cv2.cvtColor(coppied, cv2.COLOR_RGBA2GRAY)\n",
    "ret,binary = cv2.threshold(gray, -1, 255,cv2.THRESH_BINARY|cv2.THRESH_OTSU)\n",
    "\n",
    "contours, hierachy=cv2.findContours(binary, cv2.RETR_LIST, cv2.CHAIN_APPROX_NONE)\n",
    "\n",
    "for contour in contours:\n",
    "    x,y, width, height = cv2.boundingRect(contour)   #사각형 정보 불러오기\n",
    "    cv2.rectangle(coppied,(x,y),(x+width,y+height),(255,0,0),1,cv2.LINE_AA)#사각형 사본,사각형 시작점:x,y\n",
    "\n",
    "cv2.imshow(\"contours\",coppied)\n",
    "cv2.waitKey(0)\n",
    "cv2.destroyAllWindows()"
   ]
  },
  {
   "cell_type": "markdown",
   "metadata": {},
   "source": [
    "#### 실습. 순서대로 박스 표시"
   ]
  },
  {
   "cell_type": "code",
   "execution_count": 1,
   "metadata": {},
   "outputs": [
    {
     "ename": "error",
     "evalue": "OpenCV(4.10.0) :-1: error: (-5:Bad argument) in function 'boundingRect'\n> Overload resolution failed:\n>  - array is not a numerical tuple\n>  - Expected Ptr<cv::UMat> for argument 'array'\n",
     "output_type": "error",
     "traceback": [
      "\u001b[1;31m---------------------------------------------------------------------------\u001b[0m",
      "\u001b[1;31merror\u001b[0m                                     Traceback (most recent call last)",
      "Cell \u001b[1;32mIn[1], line 15\u001b[0m\n\u001b[0;32m     13\u001b[0m \u001b[38;5;28;01mwhile\u001b[39;00m \u001b[38;5;28;01mTrue\u001b[39;00m:\n\u001b[0;32m     14\u001b[0m     treshold1 \u001b[38;5;241m=\u001b[39m cv2\u001b[38;5;241m.\u001b[39mgetTrackbarPos(\u001b[38;5;124m\"\u001b[39m\u001b[38;5;124mtreshold1\u001b[39m\u001b[38;5;124m\"\u001b[39m,name)\n\u001b[1;32m---> 15\u001b[0m     x,y, width, height \u001b[38;5;241m=\u001b[39m \u001b[43mcv2\u001b[49m\u001b[38;5;241;43m.\u001b[39;49m\u001b[43mboundingRect\u001b[49m\u001b[43m(\u001b[49m\u001b[43mcontours\u001b[49m\u001b[43m)\u001b[49m      \u001b[38;5;66;03m#사각형 정보 불러오기\u001b[39;00m\n\u001b[0;32m     16\u001b[0m     cv2\u001b[38;5;241m.\u001b[39mrectangle(coppied,(x,y),(x\u001b[38;5;241m+\u001b[39mwidth,y\u001b[38;5;241m+\u001b[39mheight),(\u001b[38;5;241m255\u001b[39m,\u001b[38;5;241m0\u001b[39m,\u001b[38;5;241m0\u001b[39m),\u001b[38;5;241m1\u001b[39m,cv2\u001b[38;5;241m.\u001b[39mLINE_AA)     \u001b[38;5;66;03m#사각형 사본,사각형 시작점:x,y\u001b[39;00m\n\u001b[0;32m     17\u001b[0m     cv2\u001b[38;5;241m.\u001b[39mimshow(name,coppied)\n",
      "\u001b[1;31merror\u001b[0m: OpenCV(4.10.0) :-1: error: (-5:Bad argument) in function 'boundingRect'\n> Overload resolution failed:\n>  - array is not a numerical tuple\n>  - Expected Ptr<cv::UMat> for argument 'array'\n"
     ]
    },
    {
     "ename": "",
     "evalue": "",
     "output_type": "error",
     "traceback": [
      "\u001b[1;31mThe Kernel crashed while executing code in the current cell or a previous cell. \n",
      "\u001b[1;31mPlease review the code in the cell(s) to identify a possible cause of the failure. \n",
      "\u001b[1;31mClick <a href='https://aka.ms/vscodeJupyterKernelCrash'>here</a> for more info. \n",
      "\u001b[1;31mView Jupyter <a href='command:jupyter.viewOutput'>log</a> for further details."
     ]
    }
   ],
   "source": [
    "import cv2\n",
    "VEHICLES = (\"images/vehicles.png\")\n",
    "img = cv2.imread(VEHICLES)\n",
    "coppied = img.copy()    #사본 만들기\n",
    "name = \"Contour\"\n",
    "cv2.namedWindow(name)\n",
    "\n",
    "gray = cv2.cvtColor(coppied, cv2.COLOR_RGBA2GRAY)\n",
    "ret,binary = cv2.threshold(gray, -1, 255,cv2.THRESH_BINARY|cv2.THRESH_OTSU)\n",
    "contours, hierachy=cv2.findContours(binary, cv2.RETR_EXTERNAL, cv2.CHAIN_APPROX_NONE)\n",
    "cv2.createTrackbar(\"treshold1\",name, 0,255,lambda x: x)\n",
    "\n",
    "while True:\n",
    "    treshold1 = cv2.getTrackbarPos(\"treshold1\",name)\n",
    "    x,y, width, height = cv2.boundingRect(contours)      #사각형 정보 불러오기\n",
    "    cv2.rectangle(coppied,(x,y),(x+width,y+height),(255,0,0),1,cv2.LINE_AA)     #사각형 사본,사각형 시작점:x,y\n",
    "    cv2.imshow(name,coppied)\n",
    "\n",
    "    if cv2.waitKey(0) == ord(\"q\"):\n",
    "        break\n",
    "cv2.destroyAllWindows()"
   ]
  },
  {
   "cell_type": "code",
   "execution_count": 10,
   "metadata": {},
   "outputs": [
    {
     "ename": "error",
     "evalue": "OpenCV(4.10.0) D:\\a\\opencv-python\\opencv-python\\opencv\\modules\\highgui\\src\\window_w32.cpp:2561: error: (-27:Null pointer) NULL window: 'Vehicles' in function 'cvGetTrackbarPos'\n",
     "output_type": "error",
     "traceback": [
      "\u001b[1;31m---------------------------------------------------------------------------\u001b[0m",
      "\u001b[1;31merror\u001b[0m                                     Traceback (most recent call last)",
      "Cell \u001b[1;32mIn[10], line 18\u001b[0m\n\u001b[0;32m     16\u001b[0m \u001b[38;5;28;01mwhile\u001b[39;00m \u001b[38;5;28;01mTrue\u001b[39;00m:\n\u001b[0;32m     17\u001b[0m     target \u001b[38;5;241m=\u001b[39m img\u001b[38;5;241m.\u001b[39mcopy()\n\u001b[1;32m---> 18\u001b[0m     index \u001b[38;5;241m=\u001b[39m \u001b[43mcv2\u001b[49m\u001b[38;5;241;43m.\u001b[39;49m\u001b[43mgetTrackbarPos\u001b[49m\u001b[43m(\u001b[49m\u001b[38;5;124;43m\"\u001b[39;49m\u001b[38;5;124;43mIndex\u001b[39;49m\u001b[38;5;124;43m\"\u001b[39;49m\u001b[43m,\u001b[49m\u001b[43mname\u001b[49m\u001b[43m)\u001b[49m\n\u001b[0;32m     19\u001b[0m \u001b[38;5;66;03m#해당 인덱스의 bounding rect를 추출 ->cv2.boundingRect\u001b[39;00m\n\u001b[0;32m     20\u001b[0m     x,y, width, height \u001b[38;5;241m=\u001b[39m cv2\u001b[38;5;241m.\u001b[39mboundingRect(contours[index])\n",
      "\u001b[1;31merror\u001b[0m: OpenCV(4.10.0) D:\\a\\opencv-python\\opencv-python\\opencv\\modules\\highgui\\src\\window_w32.cpp:2561: error: (-27:Null pointer) NULL window: 'Vehicles' in function 'cvGetTrackbarPos'\n"
     ]
    }
   ],
   "source": [
    "###의사코드\n",
    "import cv2\n",
    "img = cv2.imread(\"images/vehicles.png\")\n",
    "coppied = img.copy() \n",
    "name = \"Vehicles\"\n",
    "cv2.namedWindow(name)\n",
    "#윤곽선 찾고 : 그레이스케일-> 이진화-> findcotours\n",
    "gray = cv2.cvtColor(coppied, cv2.COLOR_RGBA2GRAY) #그레이스케일\n",
    "ret,binary = cv2.threshold(gray, -1, 255,cv2.THRESH_BINARY|cv2.THRESH_OTSU) #이진화\n",
    "contours, hierachy=cv2.findContours(binary, cv2.RETR_EXTERNAL, cv2.CHAIN_APPROX_SIMPLE) #find\n",
    "#contours : 윤곽선의 정보(리스트)\n",
    "\n",
    "\n",
    "#윤곽선의 인덱스 선택 -> 트랙바 이용 -> while\n",
    "cv2.createTrackbar(\"Index\",name, 0,len(contours)-1,lambda x: x)\n",
    "while True:\n",
    "    target = img.copy()\n",
    "    index = cv2.getTrackbarPos(\"Index\",name)\n",
    "#해당 인덱스의 bounding rect를 추출 ->cv2.boundingRect\n",
    "    x,y, width, height = cv2.boundingRect(contours[index])\n",
    "    \n",
    "#화면에 사각형을 그린다 -> cv2.rectangle\n",
    "    cv2.rectangle(target,(x,y),(x+width,y+height),(255,255,0),1)\n",
    "    cv2.imshow(name,target)\n",
    "\n",
    "    if cv2.waitKey(1) == ord(\"q\"):\n",
    "        break\n",
    "cv2.destroyAllWindows()"
   ]
  },
  {
   "cell_type": "code",
   "execution_count": 6,
   "metadata": {},
   "outputs": [],
   "source": [
    "img = cv2.imread(\"images/vehicles.png\")\n",
    "coppied = img.copy()\n",
    "name = \"Vehicles\"\n",
    "cv2.namedWindow(name)\n",
    "\n",
    "# 윤곽선을 찾고 : 그레이스케일 -> 이진화 -> findContours\n",
    "gray = cv2.cvtColor(coppied, cv2.COLOR_BGR2GRAY)\n",
    "ret, binary = cv2.threshold(gray, -1, 255, cv2.THRESH_BINARY | cv2.THRESH_OTSU)\n",
    "contours, hierachy = cv2.findContours(binary, cv2.RETR_EXTERNAL, cv2.CHAIN_APPROX_SIMPLE)\n",
    "\n",
    "# 윤곽선의 인덱스를 선택해서 -> 트랙바이용 -> while\n",
    "cv2.createTrackbar(\"Index\", name, 0, len(contours)-1, lambda x:x)\n",
    "\n",
    "while True:\n",
    "  target = img.copy()\n",
    "  index = cv2.getTrackbarPos(\"Index\", name)\n",
    "\n",
    "  # 해당 인덱스의 contour의 bounding rect를 추출하고 -> cv2.boundingRect\n",
    "  x, y, width, height = cv2.boundingRect(contours[index])\n",
    "\n",
    "  # contours[i] -> rect\n",
    "  # 화면에 사각형을 그린다다 -> cv2.rectangle\n",
    "  cv2.rectangle(target, (x,y), (x+width, y+height), (255,255,0), 2)\n",
    "  cv2.imshow(name, target)\n",
    "\n",
    "  if cv2.waitKey(1) == ord(\"q\"):\n",
    "    break\n",
    "\n",
    "\n",
    "cv2.destroyAllWindows()"
   ]
  },
  {
   "cell_type": "code",
   "execution_count": 8,
   "metadata": {},
   "outputs": [],
   "source": [
    "import cv2\n",
    "img = cv2.imread(\"images/vehicles.png\")\n",
    "coppied = img.copy()\n",
    "name = \"Vehicles\"\n",
    "cv2.namedWindow(name)\n",
    "\n",
    "\n",
    "gray = cv2.cvtColor(coppied, cv2.COLOR_BGR2GRAY)\n",
    "ret, binary = cv2.threshold(gray, -1, 255, cv2.THRESH_BINARY | cv2.THRESH_OTSU)\n",
    "contours, hierachy = cv2.findContours(binary, cv2.RETR_EXTERNAL, cv2.CHAIN_APPROX_SIMPLE)\n",
    "#윤곽선의 면적이 특정크기 이상인 윤곽선을 새로운 리스트에 저장\n",
    "MIN_AREA = 1000\n",
    "filtered_contours = []\n",
    "for contour in contours:\n",
    "  if cv2.contourArea(contour)> MIN_AREA:\n",
    "    filtered_contours.append(contour)\n",
    "\n",
    "cv2.createTrackbar(\"Index\", name, 0, len(filtered_contours)-1, lambda x:x)\n",
    "\n",
    "while True:\n",
    "  target = img.copy()\n",
    "  index = cv2.getTrackbarPos(\"Index\", name)\n",
    "  x, y, width, height = cv2.boundingRect(filtered_contours[index])\n",
    "\n",
    "  cv2.contourArea(contours[index])\n",
    "  cv2.rectangle(target, (x,y), (x+width, y+height), (255,255,0), 2)\n",
    "  cv2.imshow(name, target)\n",
    "\n",
    "  if cv2.waitKey(1) == ord(\"q\"):\n",
    "    break\n",
    "\n",
    "\n",
    "cv2.destroyAllWindows()"
   ]
  },
  {
   "cell_type": "markdown",
   "metadata": {},
   "source": [
    "#### 실습"
   ]
  },
  {
   "cell_type": "code",
   "execution_count": 21,
   "metadata": {},
   "outputs": [],
   "source": [
    "import cv2\n",
    "import numpy as np\n",
    "\n",
    "img = cv2.imread(\"images/playing_cards.png\")\n",
    "point_list = []\n",
    "\n",
    "# 최종 결과를 출력하는 함수입니다\n",
    "def show_result():\n",
    "  width, height = 200, 300\n",
    "  src = np.array(point_list, dtype=np.float32)\n",
    "  target = np.array([[0,0], [width, 0], [width, height], [0, height]], dtype=np.float32)\n",
    "  mat = cv2.getPerspectiveTransform(src, target)\n",
    "  result = cv2.warpPerspective(img, mat, (width, height))\n",
    "  cv2.imshow(\"result\", result)\n",
    "  \n",
    "#점 4개 찍으면 출력후 반복?\n",
    "\n",
    "drawing = False \n",
    "def on_mouse(event, x, y, flags, _):\n",
    "  global drawing\n",
    "  coppied = img.copy()\n",
    "\n",
    "  if event == cv2.EVENT_LBUTTONDOWN:\n",
    "    drawing = True\n",
    "    point_list.append((x,y))\n",
    "\n",
    "  if drawing:\n",
    "    prev_point = None\n",
    "    for point in point_list:\n",
    "      cv2.circle(coppied, point, 5, (100,100,200), cv2.FILLED)\n",
    "      if prev_point:\n",
    "        cv2.line(coppied, prev_point, point, (100,100,200), 3)\n",
    "      prev_point = point\n",
    "\n",
    "    next_point = (x,y)\n",
    "    if len(point_list) == 4:\n",
    "      next_point = point_list[0]\n",
    "      show_result()\n",
    "    cv2.line(coppied, point_list[-1], next_point, (100,100,200), 5)\n",
    "\n",
    "  cv2.imshow(name, coppied)\n",
    "\n",
    "name = \"Scanner\"\n",
    "cv2.namedWindow(name)\n",
    "cv2.setMouseCallback(name, on_mouse)\n",
    "cv2.imshow(name, img)\n",
    "cv2.waitKey(0)\n",
    "cv2.destroyAllWindows()"
   ]
  },
  {
   "cell_type": "code",
   "execution_count": null,
   "metadata": {},
   "outputs": [],
   "source": [
    "import numpy as np\n",
    "import cv2\n",
    "\n",
    "# 이미지 읽기 및 설정\n",
    "img = cv2.imread(\"images/playing_cards.png\")\n",
    "\n",
    "width, height = 200, 300\n",
    "point_list = []\n",
    "\n",
    "# 결과 출력 함수\n",
    "def show_result():\n",
    "    src = np.array(point_list, dtype=np.float32)\n",
    "    dst = np.array([[0, 0], [width, 0], [width, height], [0, height]], dtype=np.float32)\n",
    "    mat = cv2.getPerspectiveTransform(src, dst)\n",
    "    result = cv2.warpPerspective(img, mat, (width, height))\n",
    "    cv2.imshow(\"Result\", result)\n",
    "\n",
    "# 마우스 이벤트 처리 함수\n",
    "def onMouse(event, x, y, flags, param):\n",
    "    temp_img = img.copy()\n",
    "    if event == cv2.EVENT_LBUTTONDOWN:\n",
    "        if len(point_list) < 4:\n",
    "            point_list.append([x, y])\n",
    "        # 점 표시\n",
    "        for point in point_list:\n",
    "            cv2.circle(temp_img, tuple(point), 10, (255, 255, 0), cv2.FILLED)\n",
    "        cv2.imshow(\"Image\", temp_img)\n",
    "        # 4개의 점이 선택되면 결과 표시//\n",
    "        if len(point_list) == 4:\n",
    "            show_result()\n",
    "\n",
    "# 윈도우 설정 및 실행\n",
    "cv2.namedWindow(\"Image\")\n",
    "cv2.setMouseCallback(\"Image\", onMouse)\n",
    "cv2.imshow(\"Image\", img)\n",
    "\n",
    "# 종료 처리\n",
    "cv2.waitKey(0)\n",
    "cv2.destroyAllWindows()"
   ]
  }
 ],
 "metadata": {
  "kernelspec": {
   "display_name": "my_cv",
   "language": "python",
   "name": "python3"
  },
  "language_info": {
   "codemirror_mode": {
    "name": "ipython",
    "version": 3
   },
   "file_extension": ".py",
   "mimetype": "text/x-python",
   "name": "python",
   "nbconvert_exporter": "python",
   "pygments_lexer": "ipython3",
   "version": "3.12.8"
  }
 },
 "nbformat": 4,
 "nbformat_minor": 2
}
