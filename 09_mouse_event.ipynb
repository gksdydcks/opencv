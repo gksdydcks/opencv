{
 "cells": [
  {
   "cell_type": "markdown",
   "metadata": {},
   "source": [
    "9.마우스 이벤트"
   ]
  },
  {
   "cell_type": "code",
   "execution_count": 22,
   "metadata": {},
   "outputs": [],
   "source": [
    "import cv2\n",
    "img =cv2.imread(\"images/card.jpg\")\n",
    "name = \"Mouse_event\"\n",
    "cv2.namedWindow(name)\n",
    "#cv2.EVENT_LBOTTONDOWN = 1\n",
    "\n",
    "def on_mouse(event,x,y,flasgs,_):\n",
    "    if event == cv2.EVENT_LBUTTONDOWN:\n",
    "        copied = img.copy() #깊은 복사, 원 한번만 찍고 싶을때\n",
    "        cv2.circle(copied,(x,y),10, (255,255,0),cv2.FILLED)\n",
    "        cv2.imshow(name,copied) #복사본 화면에 출력(img를 copied변환)\n",
    "\n",
    "\n",
    "cv2.setMouseCallback(name, on_mouse)\n",
    "cv2.imshow(name, img)\n",
    "cv2.waitKey(0)\n",
    "cv2.destroyAllWindows()"
   ]
  },
  {
   "cell_type": "markdown",
   "metadata": {},
   "source": [
    "미니프로젝트 - 반자동 스캐너 만들기"
   ]
  },
  {
   "cell_type": "code",
   "execution_count": 18,
   "metadata": {},
   "outputs": [],
   "source": [
    "import numpy as np\n",
    "import cv2\n",
    "\n",
    "img =cv2.imread(\"images/card.jpg\")\n",
    "width,height  = 600,400\n",
    "point_list = []\n",
    "\n",
    "# 최종 결과를 출력하는 함수입니다\n",
    "def show_result():\n",
    "  width,height  = 600,400\n",
    "  src = np.array(point_list,dtype=np.float32)  # src = np.float32(point_list)\n",
    "  dst = np.array([[0,0],[width,0],[width,height],[0,height]],dtype=np.float32)\n",
    "  mat = cv2.getPerspectiveTransform(src,dst)\n",
    "  result = cv2.warpPerspective(img, mat,(width, height))\n",
    "  cv2.imshow(\"result\",result)\n",
    "  \n",
    "\n",
    "def onMouse(event, x, y, flags, _):\n",
    "  if event == cv2.EVENT_LBUTTONDOWN:\n",
    "      point_list.append([x,y])\n",
    "  for point in point_list:     \n",
    "      cv2.circle(img,point,10, (255,255,0),cv2.FILLED)\n",
    "  if len(point_list) == 4:     \n",
    "      show_result()\n",
    "  cv2.imshow(name,img)\n",
    "\n",
    "# 기본적인 코드 실행입니다.\n",
    "name = \"Scanner\"\n",
    "cv2.namedWindow(name)\n",
    "cv2.setMouseCallback(name, onMouse)\n",
    "cv2.imshow(name, img)\n",
    "cv2.waitKey(0)\n",
    "cv2.destroyAllWindows()"
   ]
  },
  {
   "cell_type": "code",
   "execution_count": 26,
   "metadata": {},
   "outputs": [],
   "source": [
    "import cv2\n",
    "import numpy as np\n",
    "\n",
    "img = cv2.imread(\"images/card.jpg\")\n",
    "point_list = []\n",
    "\n",
    "# 최종 결과를 출력하는 함수입니다\n",
    "def show_result():\n",
    "  width, height = 600, 350\n",
    "  src = np.array(point_list, dtype=np.float32)\n",
    "  target = np.array([[0,0], [width, 0], [width, height], [0, height]], dtype=np.float32)\n",
    "  mat = cv2.getPerspectiveTransform(src, target)\n",
    "  result = cv2.warpPerspective(img, mat, (width, height))\n",
    "  cv2.imshow(\"result\", result)\n",
    "\n",
    "# 마우스 이벤트와 함께 실행되는 콜백함수입니다.\n",
    "drawing = False\n",
    "def on_mouse(event, x, y, flags, _):\n",
    "  global drawing\n",
    "  coppied = img.copy()\n",
    "\n",
    "  if event == cv2.EVENT_LBUTTONDOWN:\n",
    "    drawing = True\n",
    "    point_list.append((x,y))\n",
    "\n",
    "  if drawing:\n",
    "    prev_point = None\n",
    "    for point in point_list:\n",
    "      cv2.circle(coppied, point, 10, (100,100,200), cv2.FILLED)\n",
    "      if prev_point:\n",
    "        cv2.line(coppied, prev_point, point, (100,100,200), 5)\n",
    "      prev_point = point\n",
    "\n",
    "    next_point = (x,y)\n",
    "    if len(point_list) == 4:\n",
    "      next_point = point_list[0]\n",
    "      show_result()\n",
    "    cv2.line(coppied, point_list[-1], next_point, (100,100,200), 5)\n",
    "\n",
    "  cv2.imshow(name, coppied)\n",
    "\n",
    "name = \"Scanner\"\n",
    "cv2.namedWindow(name)\n",
    "cv2.setMouseCallback(name, on_mouse)\n",
    "cv2.imshow(name, img)\n",
    "cv2.waitKey(0)\n",
    "cv2.destroyAllWindows()"
   ]
  }
 ],
 "metadata": {
  "kernelspec": {
   "display_name": "my_cv",
   "language": "python",
   "name": "python3"
  },
  "language_info": {
   "codemirror_mode": {
    "name": "ipython",
    "version": 3
   },
   "file_extension": ".py",
   "mimetype": "text/x-python",
   "name": "python",
   "nbconvert_exporter": "python",
   "pygments_lexer": "ipython3",
   "version": "3.12.8"
  }
 },
 "nbformat": 4,
 "nbformat_minor": 2
}
